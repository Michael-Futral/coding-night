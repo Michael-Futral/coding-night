{
 "cells": [
  {
   "cell_type": "markdown",
   "metadata": {},
   "source": [
    "# Pathlib Challenges\n",
    "\n",
    "For these challenges we will be getting familiar with the `pathlib` library.\n",
    "\n",
    "This topic was inspired by our own Organizer, Chris May. He wrote an article on [getting started with pathlib](https://everydaysuperpowers.dev/articles/stop-working-so-hard-paths-get-started-pathlib/) which also prompted him to write a [field guide](https://everydaysuperpowers.dev/documents/3/ES-Getting_Started_with_Pathlib.pdf) and [cheat sheet](https://everydaysuperpowers.dev/documents/2/pathlib_cheat_sheet-V1_200703.pdf). You can see his other articles and resources at https://everydaysuperpowers.dev. Feel free to look at the resources and the `pathlib` [documentation](https://docs.python.org/3/library/pathlib.html) as they serve as the basis for the exercises below.\n",
    "\n",
    "There are two kinds of Paths. The documentation states, \"*Path classes are divided between pure paths, which provide purely computational operations without I/O, and concrete paths, which inherit from pure paths but also provide I/O operations.*\" In other words,\n",
    "\n",
    "* **`PurePath`**: Performs path operations witout caring about what might actually be on the disk.\n",
    "* **`Path`**: Allows you to interact with files.\n",
    "\n",
    "Both `PurePath` and `Path` can be either Windows or Posix paths. Chances are that you will not need to worry about the operating system specific choice since `pathlib` will take care of all the specifics for you!\n",
    "\n",
    "One common shortcut to get the path of the current file is with the `__file__` variable. Due to how Jupyter Notebooks work, the `__file__` variable is not available, so it is mimmicked in the imports block. If you're not familiar with `__file__`, I suggest you look at [`__name__`](https://docs.python.org/3/library/__main__.html) and how python uses [dunder](https://dbader.org/blog/python-dunder-methods) attributes and methods."
   ]
  },
  {
   "cell_type": "code",
   "execution_count": 1,
   "metadata": {},
   "outputs": [
    {
     "name": "stderr",
     "output_type": "stream",
     "text": [
      "100%|█████████████████████████████████████████████████████████████████████████████████████████████████████████████████████████████████████████████████████████████████████████████████████████████████| 10/10 [00:02<00:00,  3.60it/s]\n",
      "100%|███████████████████████████████████████████████████████████████████████████████████████████████████████████████████████████████████████████████████████████████████████████████████████████████| 200/200 [00:49<00:00,  4.02it/s]\n"
     ]
    },
    {
     "data": {
      "text/plain": [
       "'C:\\\\Users\\\\bcohan\\\\PycharmProjects\\\\coding-night\\\\pathlib\\\\Challenge.ipynb'"
      ]
     },
     "execution_count": 1,
     "metadata": {},
     "output_type": "execute_result"
    }
   ],
   "source": [
    "import json\n",
    "import os\n",
    "import string\n",
    "from pathlib import Path\n",
    "from slugify import slugify\n",
    "from exercise import setup, cleanup\n",
    "\n",
    "setup()\n",
    "__file__ = os.path.join(os.getcwd(), 'Challenge.ipynb')\n",
    "__file__"
   ]
  },
  {
   "cell_type": "markdown",
   "metadata": {},
   "source": [
    "# Where am I?\n",
    "\n",
    "The Zen of Python states\n",
    "\n",
    "    There should be one-- and preferably only one --obvious way to do it.\n",
    "    Although that way may not be obvious at first unless you're Dutch.\n",
    "    \n",
    "So naturally it would follow that there are many ways to access the current directory as a place to start. There are 11 different methods shown below for gettinging the current directory. Take some time and look over how each line works. Some things to note:\n",
    "\n",
    "* `os.getcwd()` is shown, but only included for comparison purposes.\n",
    "* In all major operating systems `.` refers to the current directory and `..` referrs to the directory above.\n",
    "* Note the difference between lines with and without `.resolve()`\n",
    "* Note how `__file__` requires the `parent` attribute.\n",
    "* Note the difference between `.parent` and `.parents`.\n",
    "\n",
    "While these are all interchangable here, they are not always interchangeable. Some will refer to the working directory while others refer to the location of the script. Be careful with which one you choose. "
   ]
  },
  {
   "cell_type": "code",
   "execution_count": 2,
   "metadata": {},
   "outputs": [
    {
     "data": {
      "text/plain": [
       "['C:\\\\Users\\\\bcohan\\\\PycharmProjects\\\\coding-night\\\\pathlib',\n",
       " WindowsPath('C:/Users/bcohan/PycharmProjects/coding-night/pathlib'),\n",
       " WindowsPath('C:/Users/bcohan/PycharmProjects/coding-night/pathlib'),\n",
       " WindowsPath('.'),\n",
       " WindowsPath('C:/Users/bcohan/PycharmProjects/coding-night/pathlib'),\n",
       " WindowsPath('.'),\n",
       " WindowsPath('C:/Users/bcohan/PycharmProjects/coding-night/pathlib'),\n",
       " WindowsPath('C:/Users/bcohan/PycharmProjects/coding-night/pathlib/Challenge.ipynb/..'),\n",
       " WindowsPath('C:/Users/bcohan/PycharmProjects/coding-night/pathlib'),\n",
       " WindowsPath('C:/Users/bcohan/PycharmProjects/coding-night/pathlib'),\n",
       " WindowsPath('C:/Users/bcohan/PycharmProjects/coding-night/pathlib')]"
      ]
     },
     "execution_count": 2,
     "metadata": {},
     "output_type": "execute_result"
    }
   ],
   "source": [
    "[\n",
    "    os.getcwd(),\n",
    "    Path(os.getcwd()),\n",
    "    Path.cwd(),\n",
    "    Path(),\n",
    "    Path().resolve(),\n",
    "    Path('.'),\n",
    "    Path('.').resolve(),\n",
    "    Path(__file__) / '..',\n",
    "    (Path(__file__) / '..').resolve(),\n",
    "    Path(__file__).parent,\n",
    "    Path(__file__).parents[0],\n",
    "]"
   ]
  },
  {
   "cell_type": "markdown",
   "metadata": {},
   "source": [
    "Okay, now that you've looked at the different ways of accessing the current directory, use one of them to set a variable `base_dir` to the base of the repo (one parent up)"
   ]
  },
  {
   "cell_type": "code",
   "execution_count": 3,
   "metadata": {},
   "outputs": [],
   "source": [
    "base_dir = Path().resolve().parent"
   ]
  },
  {
   "cell_type": "markdown",
   "metadata": {},
   "source": [
    "How many directories are we away from the file system root? What are they?"
   ]
  },
  {
   "cell_type": "code",
   "execution_count": 4,
   "metadata": {},
   "outputs": [
    {
     "data": {
      "text/plain": [
       "[WindowsPath('C:/Users/bcohan/PycharmProjects'),\n",
       " WindowsPath('C:/Users/bcohan'),\n",
       " WindowsPath('C:/Users'),\n",
       " WindowsPath('C:/')]"
      ]
     },
     "execution_count": 4,
     "metadata": {},
     "output_type": "execute_result"
    }
   ],
   "source": [
    "[*base_dir.resolve().parents]"
   ]
  },
  {
   "cell_type": "markdown",
   "metadata": {},
   "source": [
    "# Who am I?\n",
    "\n",
    "Often, you might want to access the home directory of the user. Create a variable `home_dir` that refers to the current user's home directory (In windows, this is `C:\\Users\\<user>`, in Linux it's usually `/home/<user>`). Does the Path look right? If you launched this notebook by clicking the Binder link in the repo, [this](https://github.com/jupyter/docker-stacks/issues/358#issuecomment-288844834) might answer a question you're now asking.\n",
    "\n",
    "**You should not be hard coding the file path.**"
   ]
  },
  {
   "cell_type": "code",
   "execution_count": 5,
   "metadata": {},
   "outputs": [
    {
     "data": {
      "text/plain": [
       "WindowsPath('C:/Users/bcohan')"
      ]
     },
     "execution_count": 5,
     "metadata": {},
     "output_type": "execute_result"
    }
   ],
   "source": [
    "home_dir = Path.home()\n",
    "home_dir"
   ]
  },
  {
   "cell_type": "markdown",
   "metadata": {},
   "source": [
    "# What Have We Got Here?\n",
    "\n",
    "Now that you know where you are, it's time to see what is there with you."
   ]
  },
  {
   "cell_type": "markdown",
   "metadata": {},
   "source": [
    "List all the items in the home directory."
   ]
  },
  {
   "cell_type": "code",
   "execution_count": 6,
   "metadata": {},
   "outputs": [
    {
     "data": {
      "text/plain": [
       "[WindowsPath('C:/Users/bcohan/.gitconfig'),\n",
       " WindowsPath('C:/Users/bcohan/.ipython'),\n",
       " WindowsPath('C:/Users/bcohan/.jupyter'),\n",
       " WindowsPath('C:/Users/bcohan/.matplotlib'),\n",
       " WindowsPath('C:/Users/bcohan/.PyCharmCE2018.2'),\n",
       " WindowsPath('C:/Users/bcohan/.streamlit'),\n",
       " WindowsPath('C:/Users/bcohan/AppData'),\n",
       " WindowsPath('C:/Users/bcohan/Application Data'),\n",
       " WindowsPath('C:/Users/bcohan/Contacts'),\n",
       " WindowsPath('C:/Users/bcohan/Cookies'),\n",
       " WindowsPath('C:/Users/bcohan/Desktop'),\n",
       " WindowsPath('C:/Users/bcohan/Documents'),\n",
       " WindowsPath('C:/Users/bcohan/Downloads'),\n",
       " WindowsPath('C:/Users/bcohan/Envs'),\n",
       " WindowsPath('C:/Users/bcohan/Favorites'),\n",
       " WindowsPath('C:/Users/bcohan/Links'),\n",
       " WindowsPath('C:/Users/bcohan/Local Settings'),\n",
       " WindowsPath('C:/Users/bcohan/Music'),\n",
       " WindowsPath('C:/Users/bcohan/My Documents'),\n",
       " WindowsPath('C:/Users/bcohan/NetHood'),\n",
       " WindowsPath('C:/Users/bcohan/NTUSER.DAT'),\n",
       " WindowsPath('C:/Users/bcohan/ntuser.dat.LOG1'),\n",
       " WindowsPath('C:/Users/bcohan/ntuser.dat.LOG2'),\n",
       " WindowsPath('C:/Users/bcohan/NTUSER.DAT{b7f33f48-2ee4-11e9-a36b-c1fc09751946}.TM.blf'),\n",
       " WindowsPath('C:/Users/bcohan/NTUSER.DAT{b7f33f48-2ee4-11e9-a36b-c1fc09751946}.TMContainer00000000000000000001.regtrans-ms'),\n",
       " WindowsPath('C:/Users/bcohan/NTUSER.DAT{b7f33f48-2ee4-11e9-a36b-c1fc09751946}.TMContainer00000000000000000002.regtrans-ms'),\n",
       " WindowsPath('C:/Users/bcohan/ntuser.ini'),\n",
       " WindowsPath('C:/Users/bcohan/ntuser.pol'),\n",
       " WindowsPath('C:/Users/bcohan/OneDrive'),\n",
       " WindowsPath('C:/Users/bcohan/OneDrive - GHD'),\n",
       " WindowsPath('C:/Users/bcohan/Pictures'),\n",
       " WindowsPath('C:/Users/bcohan/PrintHood'),\n",
       " WindowsPath('C:/Users/bcohan/PycharmProjects'),\n",
       " WindowsPath('C:/Users/bcohan/Recent'),\n",
       " WindowsPath('C:/Users/bcohan/Searches'),\n",
       " WindowsPath('C:/Users/bcohan/SendTo'),\n",
       " WindowsPath('C:/Users/bcohan/Start Menu'),\n",
       " WindowsPath('C:/Users/bcohan/Templates'),\n",
       " WindowsPath('C:/Users/bcohan/Videos')]"
      ]
     },
     "execution_count": 6,
     "metadata": {},
     "output_type": "execute_result"
    }
   ],
   "source": [
    "[f for f in home_dir.iterdir()]"
   ]
  },
  {
   "cell_type": "markdown",
   "metadata": {},
   "source": [
    "Only list items in the home directory that are files."
   ]
  },
  {
   "cell_type": "code",
   "execution_count": 7,
   "metadata": {},
   "outputs": [
    {
     "data": {
      "text/plain": [
       "[WindowsPath('C:/Users/bcohan/.gitconfig'),\n",
       " WindowsPath('C:/Users/bcohan/NTUSER.DAT'),\n",
       " WindowsPath('C:/Users/bcohan/ntuser.dat.LOG1'),\n",
       " WindowsPath('C:/Users/bcohan/ntuser.dat.LOG2'),\n",
       " WindowsPath('C:/Users/bcohan/NTUSER.DAT{b7f33f48-2ee4-11e9-a36b-c1fc09751946}.TM.blf'),\n",
       " WindowsPath('C:/Users/bcohan/NTUSER.DAT{b7f33f48-2ee4-11e9-a36b-c1fc09751946}.TMContainer00000000000000000001.regtrans-ms'),\n",
       " WindowsPath('C:/Users/bcohan/NTUSER.DAT{b7f33f48-2ee4-11e9-a36b-c1fc09751946}.TMContainer00000000000000000002.regtrans-ms'),\n",
       " WindowsPath('C:/Users/bcohan/ntuser.ini'),\n",
       " WindowsPath('C:/Users/bcohan/ntuser.pol')]"
      ]
     },
     "execution_count": 7,
     "metadata": {},
     "output_type": "execute_result"
    }
   ],
   "source": [
    "[f for f in home_dir.iterdir() if f.is_file()]"
   ]
  },
  {
   "cell_type": "markdown",
   "metadata": {},
   "source": [
    "Only list items in the home directory that are directories."
   ]
  },
  {
   "cell_type": "code",
   "execution_count": 8,
   "metadata": {},
   "outputs": [
    {
     "data": {
      "text/plain": [
       "[WindowsPath('C:/Users/bcohan/.ipython'),\n",
       " WindowsPath('C:/Users/bcohan/.jupyter'),\n",
       " WindowsPath('C:/Users/bcohan/.matplotlib'),\n",
       " WindowsPath('C:/Users/bcohan/.PyCharmCE2018.2'),\n",
       " WindowsPath('C:/Users/bcohan/.streamlit'),\n",
       " WindowsPath('C:/Users/bcohan/AppData'),\n",
       " WindowsPath('C:/Users/bcohan/Application Data'),\n",
       " WindowsPath('C:/Users/bcohan/Contacts'),\n",
       " WindowsPath('C:/Users/bcohan/Cookies'),\n",
       " WindowsPath('C:/Users/bcohan/Desktop'),\n",
       " WindowsPath('C:/Users/bcohan/Documents'),\n",
       " WindowsPath('C:/Users/bcohan/Downloads'),\n",
       " WindowsPath('C:/Users/bcohan/Envs'),\n",
       " WindowsPath('C:/Users/bcohan/Favorites'),\n",
       " WindowsPath('C:/Users/bcohan/Links'),\n",
       " WindowsPath('C:/Users/bcohan/Local Settings'),\n",
       " WindowsPath('C:/Users/bcohan/Music'),\n",
       " WindowsPath('C:/Users/bcohan/My Documents'),\n",
       " WindowsPath('C:/Users/bcohan/NetHood'),\n",
       " WindowsPath('C:/Users/bcohan/OneDrive'),\n",
       " WindowsPath('C:/Users/bcohan/OneDrive - GHD'),\n",
       " WindowsPath('C:/Users/bcohan/Pictures'),\n",
       " WindowsPath('C:/Users/bcohan/PrintHood'),\n",
       " WindowsPath('C:/Users/bcohan/PycharmProjects'),\n",
       " WindowsPath('C:/Users/bcohan/Recent'),\n",
       " WindowsPath('C:/Users/bcohan/Searches'),\n",
       " WindowsPath('C:/Users/bcohan/SendTo'),\n",
       " WindowsPath('C:/Users/bcohan/Start Menu'),\n",
       " WindowsPath('C:/Users/bcohan/Templates'),\n",
       " WindowsPath('C:/Users/bcohan/Videos')]"
      ]
     },
     "execution_count": 8,
     "metadata": {},
     "output_type": "execute_result"
    }
   ],
   "source": [
    "[d for d in home_dir.iterdir() if d.is_dir()]"
   ]
  },
  {
   "cell_type": "markdown",
   "metadata": {},
   "source": [
    "Find all the notebooks under `base_dir` (`.ipynb`)"
   ]
  },
  {
   "cell_type": "code",
   "execution_count": 9,
   "metadata": {},
   "outputs": [
    {
     "data": {
      "text/plain": [
       "[WindowsPath('C:/Users/bcohan/PycharmProjects/coding-night/pathlib/Answers.ipynb'),\n",
       " WindowsPath('C:/Users/bcohan/PycharmProjects/coding-night/pathlib/.ipynb_checkpoints/Answers-checkpoint.ipynb'),\n",
       " WindowsPath('C:/Users/bcohan/PycharmProjects/coding-night/venv/Lib/site-packages/nbconvert/exporters/tests/files/attachment.ipynb'),\n",
       " WindowsPath('C:/Users/bcohan/PycharmProjects/coding-night/venv/Lib/site-packages/nbconvert/exporters/tests/files/notebook2.ipynb'),\n",
       " WindowsPath('C:/Users/bcohan/PycharmProjects/coding-night/venv/Lib/site-packages/nbconvert/exporters/tests/files/pngmetadata.ipynb'),\n",
       " WindowsPath('C:/Users/bcohan/PycharmProjects/coding-night/venv/Lib/site-packages/nbconvert/exporters/tests/files/prompt_numbers.ipynb'),\n",
       " WindowsPath('C:/Users/bcohan/PycharmProjects/coding-night/venv/Lib/site-packages/nbconvert/exporters/tests/files/rawtest.ipynb'),\n",
       " WindowsPath('C:/Users/bcohan/PycharmProjects/coding-night/venv/Lib/site-packages/nbconvert/exporters/tests/files/svg.ipynb'),\n",
       " WindowsPath('C:/Users/bcohan/PycharmProjects/coding-night/venv/Lib/site-packages/nbconvert/preprocessors/tests/files/Check History in Memory.ipynb'),\n",
       " WindowsPath('C:/Users/bcohan/PycharmProjects/coding-night/venv/Lib/site-packages/nbconvert/preprocessors/tests/files/Clear Output.ipynb'),\n",
       " WindowsPath('C:/Users/bcohan/PycharmProjects/coding-night/venv/Lib/site-packages/nbconvert/preprocessors/tests/files/Disable Stdin.ipynb'),\n",
       " WindowsPath('C:/Users/bcohan/PycharmProjects/coding-night/venv/Lib/site-packages/nbconvert/preprocessors/tests/files/Empty Cell.ipynb'),\n",
       " WindowsPath('C:/Users/bcohan/PycharmProjects/coding-night/venv/Lib/site-packages/nbconvert/preprocessors/tests/files/Factorials.ipynb'),\n",
       " WindowsPath('C:/Users/bcohan/PycharmProjects/coding-night/venv/Lib/site-packages/nbconvert/preprocessors/tests/files/HelloWorld.ipynb'),\n",
       " WindowsPath('C:/Users/bcohan/PycharmProjects/coding-night/venv/Lib/site-packages/nbconvert/preprocessors/tests/files/Inline Image.ipynb'),\n",
       " WindowsPath('C:/Users/bcohan/PycharmProjects/coding-night/venv/Lib/site-packages/nbconvert/preprocessors/tests/files/Interrupt-IPY6.ipynb'),\n",
       " WindowsPath('C:/Users/bcohan/PycharmProjects/coding-night/venv/Lib/site-packages/nbconvert/preprocessors/tests/files/Interrupt.ipynb'),\n",
       " WindowsPath('C:/Users/bcohan/PycharmProjects/coding-night/venv/Lib/site-packages/nbconvert/preprocessors/tests/files/JupyterWidgets.ipynb'),\n",
       " WindowsPath('C:/Users/bcohan/PycharmProjects/coding-night/venv/Lib/site-packages/nbconvert/preprocessors/tests/files/Parallel Execute A.ipynb'),\n",
       " WindowsPath('C:/Users/bcohan/PycharmProjects/coding-night/venv/Lib/site-packages/nbconvert/preprocessors/tests/files/Parallel Execute B.ipynb'),\n",
       " WindowsPath('C:/Users/bcohan/PycharmProjects/coding-night/venv/Lib/site-packages/nbconvert/preprocessors/tests/files/Skip Exceptions with Cell Tags-IPY6.ipynb'),\n",
       " WindowsPath('C:/Users/bcohan/PycharmProjects/coding-night/venv/Lib/site-packages/nbconvert/preprocessors/tests/files/Skip Exceptions with Cell Tags.ipynb'),\n",
       " WindowsPath('C:/Users/bcohan/PycharmProjects/coding-night/venv/Lib/site-packages/nbconvert/preprocessors/tests/files/Skip Exceptions-IPY6.ipynb'),\n",
       " WindowsPath('C:/Users/bcohan/PycharmProjects/coding-night/venv/Lib/site-packages/nbconvert/preprocessors/tests/files/Skip Exceptions.ipynb'),\n",
       " WindowsPath('C:/Users/bcohan/PycharmProjects/coding-night/venv/Lib/site-packages/nbconvert/preprocessors/tests/files/Sleep One.ipynb'),\n",
       " WindowsPath('C:/Users/bcohan/PycharmProjects/coding-night/venv/Lib/site-packages/nbconvert/preprocessors/tests/files/SVG.ipynb'),\n",
       " WindowsPath('C:/Users/bcohan/PycharmProjects/coding-night/venv/Lib/site-packages/nbconvert/preprocessors/tests/files/Unicode.ipynb'),\n",
       " WindowsPath('C:/Users/bcohan/PycharmProjects/coding-night/venv/Lib/site-packages/nbconvert/preprocessors/tests/files/UnicodePy3.ipynb'),\n",
       " WindowsPath('C:/Users/bcohan/PycharmProjects/coding-night/venv/Lib/site-packages/nbconvert/preprocessors/tests/files/update-display-id.ipynb'),\n",
       " WindowsPath('C:/Users/bcohan/PycharmProjects/coding-night/venv/Lib/site-packages/nbconvert/tests/files/latex-linked-image.ipynb'),\n",
       " WindowsPath('C:/Users/bcohan/PycharmProjects/coding-night/venv/Lib/site-packages/nbconvert/tests/files/markdown_display_priority.ipynb'),\n",
       " WindowsPath('C:/Users/bcohan/PycharmProjects/coding-night/venv/Lib/site-packages/nbconvert/tests/files/notebook1.ipynb'),\n",
       " WindowsPath('C:/Users/bcohan/PycharmProjects/coding-night/venv/Lib/site-packages/nbconvert/tests/files/notebook2.ipynb'),\n",
       " WindowsPath('C:/Users/bcohan/PycharmProjects/coding-night/venv/Lib/site-packages/nbconvert/tests/files/notebook3_with_errors.ipynb'),\n",
       " WindowsPath('C:/Users/bcohan/PycharmProjects/coding-night/venv/Lib/site-packages/nbconvert/tests/files/notebook4_jpeg.ipynb'),\n",
       " WindowsPath('C:/Users/bcohan/PycharmProjects/coding-night/venv/Lib/site-packages/nbconvert/tests/files/notebook_jl.ipynb'),\n",
       " WindowsPath('C:/Users/bcohan/PycharmProjects/coding-night/venv/Lib/site-packages/nbconvert/tests/files/notebook_tags.ipynb'),\n",
       " WindowsPath('C:/Users/bcohan/PycharmProjects/coding-night/venv/Lib/site-packages/nbconvert/tests/files/Widget_List.ipynb'),\n",
       " WindowsPath('C:/Users/bcohan/PycharmProjects/coding-night/venv/Lib/site-packages/nbformat/tests/invalid.ipynb'),\n",
       " WindowsPath('C:/Users/bcohan/PycharmProjects/coding-night/venv/Lib/site-packages/nbformat/tests/test2.ipynb'),\n",
       " WindowsPath('C:/Users/bcohan/PycharmProjects/coding-night/venv/Lib/site-packages/nbformat/tests/test3.ipynb'),\n",
       " WindowsPath('C:/Users/bcohan/PycharmProjects/coding-night/venv/Lib/site-packages/nbformat/tests/test4.ipynb'),\n",
       " WindowsPath('C:/Users/bcohan/PycharmProjects/coding-night/venv/Lib/site-packages/nbformat/tests/test4custom.ipynb'),\n",
       " WindowsPath('C:/Users/bcohan/PycharmProjects/coding-night/venv/Lib/site-packages/nbformat/tests/test4docinfo.ipynb'),\n",
       " WindowsPath('C:/Users/bcohan/PycharmProjects/coding-night/venv/Lib/site-packages/nbformat/tests/test4jupyter_metadata.ipynb'),\n",
       " WindowsPath('C:/Users/bcohan/PycharmProjects/coding-night/venv/Lib/site-packages/nbformat/tests/test4jupyter_metadata_timings.ipynb'),\n",
       " WindowsPath('C:/Users/bcohan/PycharmProjects/coding-night/venv/Lib/site-packages/nbformat/tests/test4plus.ipynb'),\n",
       " WindowsPath('C:/Users/bcohan/PycharmProjects/coding-night/venv/Lib/site-packages/notebook/bundler/tests/resources/empty.ipynb'),\n",
       " WindowsPath('C:/Users/bcohan/PycharmProjects/coding-night/web-scraping-intro/Answers.ipynb'),\n",
       " WindowsPath('C:/Users/bcohan/PycharmProjects/coding-night/web-scraping-intro/Challenge.ipynb'),\n",
       " WindowsPath('C:/Users/bcohan/PycharmProjects/coding-night/web-scraping-intro/.ipynb_checkpoints/Answers-checkpoint.ipynb')]"
      ]
     },
     "execution_count": 9,
     "metadata": {},
     "output_type": "execute_result"
    }
   ],
   "source": [
    "[f for f in base_dir.rglob('*.ipynb')]"
   ]
  },
  {
   "cell_type": "markdown",
   "metadata": {},
   "source": [
    "What versions of python are installed on this machine? (If you're running linux or mac, look for files containing `python` under `/usr/bin`. If using windows, skip this and the next challenge.)"
   ]
  },
  {
   "cell_type": "code",
   "execution_count": 10,
   "metadata": {},
   "outputs": [
    {
     "data": {
      "text/plain": [
       "[]"
      ]
     },
     "execution_count": 10,
     "metadata": {},
     "output_type": "execute_result"
    }
   ],
   "source": [
    "[f for f in Path('/usr/bin').glob('python*')]"
   ]
  },
  {
   "cell_type": "markdown",
   "metadata": {},
   "source": [
    "Which python files are just symbolic links to actual files?"
   ]
  },
  {
   "cell_type": "code",
   "execution_count": 11,
   "metadata": {},
   "outputs": [
    {
     "data": {
      "text/plain": [
       "[]"
      ]
     },
     "execution_count": 11,
     "metadata": {},
     "output_type": "execute_result"
    }
   ],
   "source": [
    "[f for f in Path('/usr/bin').glob('python*') if f.is_symlink()]"
   ]
  },
  {
   "cell_type": "markdown",
   "metadata": {},
   "source": [
    "Print the contents of `requirements.txt` under `base_dir`. Do this with one line."
   ]
  },
  {
   "cell_type": "code",
   "execution_count": 12,
   "metadata": {},
   "outputs": [
    {
     "name": "stdout",
     "output_type": "stream",
     "text": [
      "beautifulsoup4>=4.9.1\n",
      "jupyterlab>=2.1.4\n",
      "nbstripout>=0.3.8\n",
      "python-slugify>=4.0.0\n",
      "requests>=2.23.0\n",
      "scrapy>=2.1.0\n",
      "selenium>=3.141.0\n",
      "tabulate>=0.8.7\n",
      "tqdm>=4.47.0\n"
     ]
    }
   ],
   "source": [
    "print(base_dir.joinpath('requirements.txt').read_text())"
   ]
  },
  {
   "cell_type": "markdown",
   "metadata": {},
   "source": [
    "# File Properties"
   ]
  },
  {
   "cell_type": "markdown",
   "metadata": {},
   "source": [
    "What is the largest file in `home_dir`? How big is it in MB?"
   ]
  },
  {
   "cell_type": "code",
   "execution_count": 13,
   "metadata": {},
   "outputs": [
    {
     "data": {
      "text/plain": [
       "'C:\\\\Users\\\\bcohan\\\\NTUSER.DAT is 8.25 MB'"
      ]
     },
     "execution_count": 13,
     "metadata": {},
     "output_type": "execute_result"
    }
   ],
   "source": [
    "file_props = [\n",
    "    {\n",
    "        'name': f,\n",
    "        'size': f.stat().st_size,\n",
    "        'atime': f.stat().st_atime,\n",
    "        'ctime': f.stat().st_ctime,\n",
    "        'mtime': f.stat().st_mtime,\n",
    "    }\n",
    "    for f in home_dir.iterdir()\n",
    "]\n",
    "\n",
    "largest = sorted(file_props, key=lambda f: f['size'])[-1]\n",
    "f\"{largest['name']} is {largest['size'] / 1024 ** 2} MB\""
   ]
  },
  {
   "cell_type": "markdown",
   "metadata": {},
   "source": [
    "Which file was most recently accessed?"
   ]
  },
  {
   "cell_type": "code",
   "execution_count": 14,
   "metadata": {},
   "outputs": [
    {
     "data": {
      "text/plain": [
       "WindowsPath('C:/Users/bcohan/Cookies')"
      ]
     },
     "execution_count": 14,
     "metadata": {},
     "output_type": "execute_result"
    }
   ],
   "source": [
    "sorted(file_props, key=lambda f: f['atime'])[-1]['name']"
   ]
  },
  {
   "cell_type": "code",
   "execution_count": 15,
   "metadata": {},
   "outputs": [
    {
     "name": "stdout",
     "output_type": "stream",
     "text": [
      "Object `modified` not found.\n"
     ]
    }
   ],
   "source": [
    "Which file in `home_dir` has gone the longest without being modified?"
   ]
  },
  {
   "cell_type": "code",
   "execution_count": null,
   "metadata": {},
   "outputs": [],
   "source": [
    "Which file in `home_dir` has gone the longest without being modified"
   ]
  },
  {
   "cell_type": "markdown",
   "metadata": {},
   "source": [
    "Which file in `home_dir` has gone the longest without being modified"
   ]
  },
  {
   "cell_type": "code",
   "execution_count": 16,
   "metadata": {},
   "outputs": [
    {
     "data": {
      "text/plain": [
       "WindowsPath('C:/Users/bcohan/NetHood')"
      ]
     },
     "execution_count": 16,
     "metadata": {},
     "output_type": "execute_result"
    }
   ],
   "source": [
    "sorted(file_props, key=lambda f: f['mtime'])[0]['name']"
   ]
  },
  {
   "cell_type": "markdown",
   "metadata": {},
   "source": [
    "# Rename Files\n",
    "\n",
    "The `setup()` function at the top of the notebook downloaded images from the first 10 pages from http://books.toscrape.com/ and compiled the data into a json file."
   ]
  },
  {
   "cell_type": "markdown",
   "metadata": {},
   "source": [
    "The json file and images are located in a directory called `books`. List all the images in the directory. (They are all jpg)"
   ]
  },
  {
   "cell_type": "code",
   "execution_count": 17,
   "metadata": {},
   "outputs": [
    {
     "data": {
      "text/plain": [
       "[WindowsPath('books/images/01264865c12ed6d987d6f0858cd1d0ba.jpg'),\n",
       " WindowsPath('books/images/01726c619a05114dca75bd840095016d.jpg'),\n",
       " WindowsPath('books/images/0237b445efc18c5562355a5a2c40889c.jpg'),\n",
       " WindowsPath('books/images/0338682e76bad3216cd4c6c28b2b625a.jpg'),\n",
       " WindowsPath('books/images/038650c9e7517b4baf2a423cd8eed38f.jpg'),\n",
       " WindowsPath('books/images/03886a8502ca54dbce0d91c2568ab69d.jpg'),\n",
       " WindowsPath('books/images/061811c5845d0e13bc04b2a755f0830f.jpg'),\n",
       " WindowsPath('books/images/06a6cfcf89afd1601cbba1a16cda57fb.jpg'),\n",
       " WindowsPath('books/images/08044269fc197645268a6197c57e6173.jpg'),\n",
       " WindowsPath('books/images/084da0199a717cb6c1eda30f98d0ea4c.jpg'),\n",
       " WindowsPath('books/images/088995e862aac86c88c608d763f6390e.jpg'),\n",
       " WindowsPath('books/images/09a3aef48557576e1a85ba7efea8ecb7.jpg'),\n",
       " WindowsPath('books/images/0a1567cd04a6582d333db71337b4e2a6.jpg'),\n",
       " WindowsPath('books/images/0bbcd0a6f4bcd81ccb1049a52736406e.jpg'),\n",
       " WindowsPath('books/images/0d1f3f934460f5a50aaa8c366641234c.jpg'),\n",
       " WindowsPath('books/images/0dcb33d60b0e79adf8ab9842e697ea2e.jpg'),\n",
       " WindowsPath('books/images/0e6dc2484322c5b9e7854ced66fdf62d.jpg'),\n",
       " WindowsPath('books/images/0efe86960cdff718aed01a5c3f65b1c3.jpg'),\n",
       " WindowsPath('books/images/0f7ee69495c0df1d35723f012624a9f8.jpg'),\n",
       " WindowsPath('books/images/0fd306891f8fd3196653022fd67d6c87.jpg'),\n",
       " WindowsPath('books/images/1048f63d3b5061cd2f424d20b3f9b666.jpg'),\n",
       " WindowsPath('books/images/106e2fc7160712edf8e2ff996dc8cd6c.jpg'),\n",
       " WindowsPath('books/images/10c61093002db1fec4089d8076678624.jpg'),\n",
       " WindowsPath('books/images/11aaad48b5f15e262456ca65294084da.jpg'),\n",
       " WindowsPath('books/images/1253c21c5ef3c6d075c5fa3f5fecee6a.jpg'),\n",
       " WindowsPath('books/images/12f1963957f27fa83d51f76b183ef490.jpg'),\n",
       " WindowsPath('books/images/12f8002e5aab6d783e29b31aad36b5ba.jpg'),\n",
       " WindowsPath('books/images/1357c6aa40c9e63d2f931927fbf81f3f.jpg'),\n",
       " WindowsPath('books/images/14f3d525e2a114cd71e27201a16af188.jpg'),\n",
       " WindowsPath('books/images/16d443437126bf6d536a89312c1995a5.jpg'),\n",
       " WindowsPath('books/images/18086e581ad354aa65f945c2b5c51350.jpg'),\n",
       " WindowsPath('books/images/19aa1184a3565b1dae6092146018e109.jpg'),\n",
       " WindowsPath('books/images/1ebbbc3e2d3249b111033cfc40763b0b.jpg'),\n",
       " WindowsPath('books/images/1f621dda1b302fc16d83d94b0b5ac31c.jpg'),\n",
       " WindowsPath('books/images/20f28657b49f8cb24ed2ec6448bb6df3.jpg'),\n",
       " WindowsPath('books/images/2121ba78e26194d92c334fde3850f840.jpg'),\n",
       " WindowsPath('books/images/238570a1c284e730dbc737a7e631ae2b.jpg'),\n",
       " WindowsPath('books/images/23b42e094c02d52b14b11a960d49610e.jpg'),\n",
       " WindowsPath('books/images/24e2f5c9d325c4004d8190c054da86dd.jpg'),\n",
       " WindowsPath('books/images/2554431c797ec725eea50b3f8a83758c.jpg'),\n",
       " WindowsPath('books/images/256c946dd0962095f66c6de3b15ab300.jpg'),\n",
       " WindowsPath('books/images/260c6ae16bce31c8f8c95daddd9f4a1c.jpg'),\n",
       " WindowsPath('books/images/261c4eaf957ae4aacf2229b482e76dbe.jpg'),\n",
       " WindowsPath('books/images/2632a1e12f2c085fabbe022ae4cd6933.jpg'),\n",
       " WindowsPath('books/images/269507c7bb35d2cec9b61a03d1c28e67.jpg'),\n",
       " WindowsPath('books/images/27a53d0bb95bdd88288eaf66c9230d7e.jpg'),\n",
       " WindowsPath('books/images/27d20361745ec2f7be668b18a4da29da.jpg'),\n",
       " WindowsPath('books/images/2878538a1039d9c4649110499a1393fb.jpg'),\n",
       " WindowsPath('books/images/28992d89f4abf54fba183fc8d074adf3.jpg'),\n",
       " WindowsPath('books/images/29fe70b1b2e5a9ba61d4bd331255e19e.jpg'),\n",
       " WindowsPath('books/images/2cdad67c44b002e7ead0cc35693c0e8b.jpg'),\n",
       " WindowsPath('books/images/2d4e358712e6c9f1d3bdd78d1a16e5a8.jpg'),\n",
       " WindowsPath('books/images/2e236e23ad52aa74505f224f6552eda8.jpg'),\n",
       " WindowsPath('books/images/2e98c332bf8563b584784971541c4445.jpg'),\n",
       " WindowsPath('books/images/3251cf3a3412f53f339e42cac2134093.jpg'),\n",
       " WindowsPath('books/images/32d6aa560e8ddf2a4da1526b95d4c7ab.jpg'),\n",
       " WindowsPath('books/images/33e507172541628acfd421503196b578.jpg'),\n",
       " WindowsPath('books/images/34f5f8e513c5f048241f5695e61b2483.jpg'),\n",
       " WindowsPath('books/images/36df4caaf1420b1183a8235355d39e69.jpg'),\n",
       " WindowsPath('books/images/372578cc073efae80cf284b56040a488.jpg'),\n",
       " WindowsPath('books/images/386468a8c3e6b880664bf7885bf6f726.jpg'),\n",
       " WindowsPath('books/images/38c56fba316c07305643a8065269594e.jpg'),\n",
       " WindowsPath('books/images/3d54940e57e662c4dd1f3ff00c78cc64.jpg'),\n",
       " WindowsPath('books/images/3e0b16851bec08b6cbf78d5f64af9114.jpg'),\n",
       " WindowsPath('books/images/3eef99c9d9adef34639f510662022830.jpg'),\n",
       " WindowsPath('books/images/41a20f35adf0caea24f208dc01ad7681.jpg'),\n",
       " WindowsPath('books/images/43aee83ebb31e2122a7215e413770e5c.jpg'),\n",
       " WindowsPath('books/images/44ccc99c8f82c33d4f9d2afa4ef25787.jpg'),\n",
       " WindowsPath('books/images/4a3b055f9e378a95fedbef55e7bab7ce.jpg'),\n",
       " WindowsPath('books/images/4e0f05ae01d8fb6bd0d3901edd06de16.jpg'),\n",
       " WindowsPath('books/images/518c184a793b751b43045637c8002eb7.jpg'),\n",
       " WindowsPath('books/images/54607fe8945897cdcced0044103b10b6.jpg'),\n",
       " WindowsPath('books/images/54899b4584e941ceced511d81092c88a.jpg'),\n",
       " WindowsPath('books/images/553310a7162dfbc2c6d19a84da0df9e1.jpg'),\n",
       " WindowsPath('books/images/57770cac1628f4407636635f4b85e88c.jpg'),\n",
       " WindowsPath('books/images/5846057e28022268153beff6d352b06c.jpg'),\n",
       " WindowsPath('books/images/589d73503d9a23d224de836134fae553.jpg'),\n",
       " WindowsPath('books/images/5910fbd8a95e8e9de9c660b71e0694e2.jpg'),\n",
       " WindowsPath('books/images/5a89e2dd7866dda6660fe508bc4b5249.jpg'),\n",
       " WindowsPath('books/images/5b88c52633f53cacf162c15f4f823153.jpg'),\n",
       " WindowsPath('books/images/5cc8e107246cb478960d4f0aba1e1c8e.jpg'),\n",
       " WindowsPath('books/images/5d72709c6a7a9584a4d1cf07648bfce1.jpg'),\n",
       " WindowsPath('books/images/5d7ecde8e81513eba8a64c9fe000744b.jpg'),\n",
       " WindowsPath('books/images/5d7f496cdf5e5962a73ecdcc1505c1d5.jpg'),\n",
       " WindowsPath('books/images/5f152afdbc42356ecba02f61058a7e5b.jpg'),\n",
       " WindowsPath('books/images/5f52b1bc6d45daab2e330c744feb0359.jpg'),\n",
       " WindowsPath('books/images/5f72c8a0d5a7292e2929a354ec8a022f.jpg'),\n",
       " WindowsPath('books/images/5fb1bf88dcfda795606745ce35be5975.jpg'),\n",
       " WindowsPath('books/images/61bdfe3950643c47d70c37c4123530f3.jpg'),\n",
       " WindowsPath('books/images/641570cd7e7aded53c7d33d78a9629f1.jpg'),\n",
       " WindowsPath('books/images/6444dacdcb9edaadbbd691524622aeb8.jpg'),\n",
       " WindowsPath('books/images/6494bf61176ca73b61255909230030be.jpg'),\n",
       " WindowsPath('books/images/6571919836ec51ed54f0050c31d8a0cd.jpg'),\n",
       " WindowsPath('books/images/6625e3bbb050de3e42a0c302c0d69f1f.jpg'),\n",
       " WindowsPath('books/images/66883b91f6804b2323c8369331cb7dd1.jpg'),\n",
       " WindowsPath('books/images/68339b4c9bc034267e1da611ab3b34f8.jpg'),\n",
       " WindowsPath('books/images/69852567cf97264a1442cbc882c84903.jpg'),\n",
       " WindowsPath('books/images/6a81103b1c01a3f6c56e5718a838a4c8.jpg'),\n",
       " WindowsPath('books/images/6b70f2cdb17d9ab7551240a88b9211fe.jpg'),\n",
       " WindowsPath('books/images/6bdae061cb92c32b0b83cda8dd10275d.jpg'),\n",
       " WindowsPath('books/images/6d71e36c8b1b9c885e1bb6c72cd8bcf8.jpg'),\n",
       " WindowsPath('books/images/6ed4991d97f60db29ec7b421e61a2cf3.jpg'),\n",
       " WindowsPath('books/images/6fd92e5143cbd5bb8bcf034e5f007dde.jpg'),\n",
       " WindowsPath('books/images/70fa6c0437d9c97dbeada6bd32bf9d2c.jpg'),\n",
       " WindowsPath('books/images/7176317f1915fa0658bb2fe400441207.jpg'),\n",
       " WindowsPath('books/images/71df730cf38c232ee58a2e407135f055.jpg'),\n",
       " WindowsPath('books/images/72417db983862010ef0c1a25de98c7d7.jpg'),\n",
       " WindowsPath('books/images/75dce2f5949b407161f37f0af249b018.jpg'),\n",
       " WindowsPath('books/images/768ea5924ac1ef6297c2be9959c796c2.jpg'),\n",
       " WindowsPath('books/images/780b2c28122750c2c383846155815bf7.jpg'),\n",
       " WindowsPath('books/images/782e315667ec50759b8603527ee33dec.jpg'),\n",
       " WindowsPath('books/images/7897eea91c4a85aca58d925861d4afec.jpg'),\n",
       " WindowsPath('books/images/7ea062007ef00107e3c16d336b41fab2.jpg'),\n",
       " WindowsPath('books/images/8025b80a40178f2a6dd4f99ad88e0fba.jpg'),\n",
       " WindowsPath('books/images/81586cd0bf8743e1f5ed80b6a0e1fabe.jpg'),\n",
       " WindowsPath('books/images/81c4a973364e17d01f217e1188253d5e.jpg'),\n",
       " WindowsPath('books/images/82939ca78da0b724f16ec814849514fd.jpg'),\n",
       " WindowsPath('books/images/8296f92b70fb1dafefecda92c1d51941.jpg'),\n",
       " WindowsPath('books/images/847c06b541e2a3b2228b96d97a5fe7a6.jpg'),\n",
       " WindowsPath('books/images/84acb0606c96e55dc729a9d6572a08fb.jpg'),\n",
       " WindowsPath('books/images/889e0bac4c7c0e7178f0165b8d3b4617.jpg'),\n",
       " WindowsPath('books/images/89b850edb01851a91f64ba114b96acb6.jpg'),\n",
       " WindowsPath('books/images/8a490347afdc10abe7c2099e466de32f.jpg'),\n",
       " WindowsPath('books/images/8a83b6ce350f01bab21f85e6ba539316.jpg'),\n",
       " WindowsPath('books/images/906f0168b0e155a7077625499b1737b5.jpg'),\n",
       " WindowsPath('books/images/92274a95b7c251fea59a2b8a78275ab4.jpg'),\n",
       " WindowsPath('books/images/9363f0065fbad5689f44fcf6e203eef3.jpg'),\n",
       " WindowsPath('books/images/94b1b8b244bce9677c2f29ccc890d4d2.jpg'),\n",
       " WindowsPath('books/images/953013d044aa313cc162dec414f3969a.jpg'),\n",
       " WindowsPath('books/images/95647d6a526bf54120b9445e124794e1.jpg'),\n",
       " WindowsPath('books/images/96173470df6fc6fef4d0008e957653ce.jpg'),\n",
       " WindowsPath('books/images/96db61bb53930c560fb4c1c62b583816.jpg'),\n",
       " WindowsPath('books/images/974709d437b08e74649b5744471bf472.jpg'),\n",
       " WindowsPath('books/images/97f8debeeaaece9603267653076e760f.jpg'),\n",
       " WindowsPath('books/images/98d1c979c4bac9e147a6718946578b0f.jpg'),\n",
       " WindowsPath('books/images/9c2e0eb8866b8e3f3b768994fd3d1c1a.jpg'),\n",
       " WindowsPath('books/images/9c463c7631c82401160fd3b554b8f0e1.jpg'),\n",
       " WindowsPath('books/images/9d0533bae1578846d728a82913b95c26.jpg'),\n",
       " WindowsPath('books/images/9f59f01fa916a7bb8f0b28a4012179a4.jpg'),\n",
       " WindowsPath('books/images/a114d70e7babf110ba42a389078e9a45.jpg'),\n",
       " WindowsPath('books/images/a5416b9646aaa7287baa287ec2590270.jpg'),\n",
       " WindowsPath('books/images/a543b100a8c1861c1bf5374ca6b576fe.jpg'),\n",
       " WindowsPath('books/images/a74b35375ce874153fd352e33bc7bac9.jpg'),\n",
       " WindowsPath('books/images/aa74004807e97a79aa084b5db329a99b.jpg'),\n",
       " WindowsPath('books/images/ae0ccc307568b6d7699786411f3cbcc4.jpg'),\n",
       " WindowsPath('books/images/af6e796160fe63e0cf19d44395c7ddf2.jpg'),\n",
       " WindowsPath('books/images/b7e84b78be3d9bb79b71156a5e5d4e42.jpg'),\n",
       " WindowsPath('books/images/b7f4843dbe062d44be1ffcfa16b2faa4.jpg'),\n",
       " WindowsPath('books/images/bde95ab9f776c911a7aa759cad60bb41.jpg'),\n",
       " WindowsPath('books/images/bea5697f2534a2f86a3ef27b5a8c12a6.jpg'),\n",
       " WindowsPath('books/images/bef44da28c98f905a3ebec0b87be8530.jpg'),\n",
       " WindowsPath('books/images/c08816960890396213a423941af65b8f.jpg'),\n",
       " WindowsPath('books/images/c40a64f59e7487b1a80a049f6ceb2ba5.jpg'),\n",
       " WindowsPath('books/images/c4a2a1a026c67bcceb5a411c724d7d0c.jpg'),\n",
       " WindowsPath('books/images/c4d1517cc9370e292366b6132ca9ca36.jpg'),\n",
       " WindowsPath('books/images/c4ddd9ced89966b0602ec85e00cd5b61.jpg'),\n",
       " WindowsPath('books/images/c82f629a31b3f47bdb17ac14aa51076d.jpg'),\n",
       " WindowsPath('books/images/cb004189f548d75ad430d3ed19e6daa9.jpg'),\n",
       " WindowsPath('books/images/cbbdb0222ee8a0f6ab61657412a15794.jpg'),\n",
       " WindowsPath('books/images/ccbdae9e29b3594301528fa2c876ec29.jpg'),\n",
       " WindowsPath('books/images/cddb3eb483ef11a088d519205b7098fb.jpg'),\n",
       " WindowsPath('books/images/cfbb5e62715c6d888fd07794c9bab5d6.jpg'),\n",
       " WindowsPath('books/images/d077a30042df6b916bfc8d257345c69e.jpg'),\n",
       " WindowsPath('books/images/d3158e8d3546fb90cced3c1d44a92a34.jpg'),\n",
       " WindowsPath('books/images/d48d5122a15347e9fe2b15ad354d69bf.jpg'),\n",
       " WindowsPath('books/images/d61b12ef0e69d49e2645537dd6a8472a.jpg'),\n",
       " WindowsPath('books/images/d658a1485b130ff26ca5fb0d5975ed2e.jpg'),\n",
       " WindowsPath('books/images/d6da0371958068bbaf39ea9c174275cd.jpg'),\n",
       " WindowsPath('books/images/da8bc9b824dd3f446ef63e438ddbfc85.jpg'),\n",
       " WindowsPath('books/images/dadfac66a89774b46b10225362724c83.jpg'),\n",
       " WindowsPath('books/images/dc44f8e2aebac48ca8553814d9b021a8.jpg'),\n",
       " WindowsPath('books/images/ddc95df6754df8e71bf969c088056188.jpg'),\n",
       " WindowsPath('books/images/e15c289ba58cea38519e1281e859f0c1.jpg'),\n",
       " WindowsPath('books/images/e1ea6cb36e62ae6dc7b805f68ab9a700.jpg'),\n",
       " WindowsPath('books/images/e260b008b7ea7970562295b7bc64b0cb.jpg'),\n",
       " WindowsPath('books/images/e41d34204a1fffbf825d8beb3dbf4cbc.jpg'),\n",
       " WindowsPath('books/images/e9203b733126c4a0832a1c7885dc27cf.jpg'),\n",
       " WindowsPath('books/images/e9250495a525eb203652ad9da85ccb8e.jpg'),\n",
       " WindowsPath('books/images/e9f4bc8cf5ffaea1504623c936e90a48.jpg'),\n",
       " WindowsPath('books/images/ea0476a6f4c318ceccf5e2f2b39f2b15.jpg'),\n",
       " WindowsPath('books/images/ea9b2cb8abbb317402e618445bade1e1.jpg'),\n",
       " WindowsPath('books/images/ee3e219d23e73ba71c79b700f183aaed.jpg'),\n",
       " WindowsPath('books/images/ef0bed08de4e083dba5e20fdb98d9c36.jpg'),\n",
       " WindowsPath('books/images/f0060c756556b855184fa32f66280961.jpg'),\n",
       " WindowsPath('books/images/f1731459b1e2f4becf2c52b8f30b8cd7.jpg'),\n",
       " WindowsPath('books/images/f2e51dd2b26600459f8eaeb6b9eecaa7.jpg'),\n",
       " WindowsPath('books/images/f34ffb24cc21c9f9f52dad4fd8f3ac21.jpg'),\n",
       " WindowsPath('books/images/f3efd43ae0fa85d9b325d5e8783e7af5.jpg'),\n",
       " WindowsPath('books/images/f479de5f305c2ac0512702cf7155bb74.jpg'),\n",
       " WindowsPath('books/images/f565af3d9dd20a1ad72a1e7c4157387d.jpg'),\n",
       " WindowsPath('books/images/f5889d038f5d8e949b494d147c2dcf54.jpg'),\n",
       " WindowsPath('books/images/f688a9d6a89fdf38e4e88439ee9eda69.jpg'),\n",
       " WindowsPath('books/images/f8314c7fdaa79fb7191a583e9a852db8.jpg'),\n",
       " WindowsPath('books/images/f85417465a73e33604624205ba8306cc.jpg'),\n",
       " WindowsPath('books/images/f86d08178e3788563ac17be5aefd29f0.jpg'),\n",
       " WindowsPath('books/images/f93b4a650f03a5d21f2436d7813f42c2.jpg'),\n",
       " WindowsPath('books/images/fc72f158554b4b4164701e1dfa1153c7.jpg'),\n",
       " WindowsPath('books/images/feb764b2afa54991cfdbbffdf501b333.jpg'),\n",
       " WindowsPath('books/images/feeafd2ad7b3077f8e74cbb1da9e3c7d.jpg'),\n",
       " WindowsPath('books/images/ffe81bf98f8386ef29e193abfb6f9c1e.jpg')]"
      ]
     },
     "execution_count": 17,
     "metadata": {},
     "output_type": "execute_result"
    }
   ],
   "source": [
    "[f for f in Path('books').rglob('*.jpg')]"
   ]
  },
  {
   "cell_type": "markdown",
   "metadata": {},
   "source": [
    "Can you tell the titles of the different books? If not, load the json file and try to rename each file. You may want to use [slugify](https://github.com/un33k/python-slugify) to avoid bad file names."
   ]
  },
  {
   "cell_type": "code",
   "execution_count": 18,
   "metadata": {},
   "outputs": [],
   "source": [
    "data = json.loads(list(Path('books').rglob('*.json'))[0].read_text())\n",
    "mapping = {Path(book['img']).stem: slugify(book['name']) for book in data}\n",
    "\n",
    "for img in Path('books').rglob('*.jpg'):\n",
    "    new_name = img.with_name(mapping[img.stem] + img.suffix)\n",
    "    img.rename(new_name)    "
   ]
  },
  {
   "cell_type": "markdown",
   "metadata": {},
   "source": [
    "Now check to see that you can figure out which image is which. (copy your code from a few cells up.)"
   ]
  },
  {
   "cell_type": "code",
   "execution_count": 19,
   "metadata": {},
   "outputs": [
    {
     "data": {
      "text/plain": [
       "[WindowsPath('books/images/a-court-of-thorns-and-roses-a-court-of-thorns-and-roses-1.jpg'),\n",
       " WindowsPath('books/images/a-fierce-and-subtle-poison.jpg'),\n",
       " WindowsPath('books/images/a-flight-of-arrows-the-pathfinders-2.jpg'),\n",
       " WindowsPath('books/images/a-light-in-the-attic.jpg'),\n",
       " WindowsPath('books/images/a-murder-in-time.jpg'),\n",
       " WindowsPath('books/images/a-piece-of-sky-a-grain-of-rice-a-memoir-in-four-meditations.jpg'),\n",
       " WindowsPath('books/images/a-world-of-flavor-your-gluten-free-passport.jpg'),\n",
       " WindowsPath('books/images/aladdin-and-his-wonderful-lamp.jpg'),\n",
       " WindowsPath('books/images/algorithms-to-live-by-the-computer-science-of-human-decisions.jpg'),\n",
       " WindowsPath('books/images/america-s-cradle-of-quarterbacks-western-pennsylvania-s-football-factory-from-johnny-unitas-to-joe-montana.jpg'),\n",
       " WindowsPath('books/images/avatar-the-last-airbender-smoke-and-shadow-part-3-smoke-and-shadow-3.jpg'),\n",
       " WindowsPath('books/images/behind-closed-doors.jpg'),\n",
       " WindowsPath('books/images/birdsong-a-story-in-pictures.jpg'),\n",
       " WindowsPath('books/images/bitch-planet-vol-1-extraordinary-machine-bitch-planet-collected-editions.jpg'),\n",
       " WindowsPath('books/images/black-dust.jpg'),\n",
       " WindowsPath('books/images/bossypants.jpg'),\n",
       " WindowsPath('books/images/burning.jpg'),\n",
       " WindowsPath('books/images/call-the-nurse-true-stories-of-a-country-nurse-on-a-scottish-isle.jpg'),\n",
       " WindowsPath('books/images/camp-midnight.jpg'),\n",
       " WindowsPath('books/images/chase-me-paris-nights-2.jpg'),\n",
       " WindowsPath('books/images/codename-baboushka-volume-1-the-conclave-of-death.jpg'),\n",
       " WindowsPath('books/images/crown-of-midnight-throne-of-glass-2.jpg'),\n",
       " WindowsPath('books/images/danganronpa-volume-1.jpg'),\n",
       " WindowsPath('books/images/deliciously-ella-every-day-quick-and-easy-recipes-for-gluten-free-snacks-packed-lunches-and-simple-meals.jpg'),\n",
       " WindowsPath('books/images/doing-it-over-most-likely-to-1.jpg'),\n",
       " WindowsPath('books/images/don-t-be-a-jerk-and-other-practical-advice-from-dogen-japan-s-greatest-zen-master.jpg'),\n",
       " WindowsPath('books/images/done-rubbed-out-reightman-bailey-1.jpg'),\n",
       " WindowsPath('books/images/drive-the-surprising-truth-about-what-motivates-us.jpg'),\n",
       " WindowsPath('books/images/eureka-trivia-6-0.jpg'),\n",
       " WindowsPath('books/images/everydata-the-misinformation-hidden-in-the-little-data-you-consume-every-day.jpg'),\n",
       " WindowsPath('books/images/fables-vol-1-legends-in-exile-fables-1.jpg'),\n",
       " WindowsPath('books/images/fifty-shades-darker-fifty-shades-2.jpg'),\n",
       " WindowsPath('books/images/finders-keepers-bill-hodges-trilogy-2.jpg'),\n",
       " WindowsPath('books/images/first-and-first-five-boroughs-3.jpg'),\n",
       " WindowsPath('books/images/first-steps-for-new-christians-print-edition.jpg'),\n",
       " WindowsPath('books/images/follow-you-home.jpg'),\n",
       " WindowsPath('books/images/foolproof-preserving-a-guide-to-small-batch-jams-jellies-pickles-condiments-and-more-a-foolproof-guide-to-making-small-batch-jams-jellies-pickles-condiments-and-more.jpg'),\n",
       " WindowsPath('books/images/forever-and-forever-the-courtship-of-henry-longfellow-and-fanny-appleton.jpg'),\n",
       " WindowsPath('books/images/frostbite-vampire-academy-2.jpg'),\n",
       " WindowsPath('books/images/full-moon-over-noahs-ark-an-odyssey-to-mount-ararat-and-beyond.jpg'),\n",
       " WindowsPath('books/images/giant-days-vol-2-giant-days-5-8.jpg'),\n",
       " WindowsPath('books/images/grumbles.jpg'),\n",
       " WindowsPath('books/images/her-backup-boyfriend-the-sorensen-family-1.jpg'),\n",
       " WindowsPath('books/images/higherselfie-wake-up-your-life-free-your-soul-find-your-tribe.jpg'),\n",
       " WindowsPath('books/images/hollow-city-miss-peregrines-peculiar-children-2.jpg'),\n",
       " WindowsPath('books/images/how-music-works.jpg'),\n",
       " WindowsPath('books/images/how-to-be-miserable-40-strategies-you-already-use.jpg'),\n",
       " WindowsPath('books/images/i-am-a-hero-omnibus-volume-1.jpg'),\n",
       " WindowsPath('books/images/i-had-a-nice-time-and-other-lies-how-to-find-love-sh-t-like-that.jpg'),\n",
       " WindowsPath('books/images/i-hate-fairyland-vol-1-madly-ever-after-i-hate-fairyland-compilations-1-5.jpg'),\n",
       " WindowsPath('books/images/immunity-how-elie-metchnikoff-changed-the-course-of-modern-medicine.jpg'),\n",
       " WindowsPath('books/images/in-a-dark-dark-wood.jpg'),\n",
       " WindowsPath('books/images/in-her-wake.jpg'),\n",
       " WindowsPath('books/images/in-the-country-we-love-my-family-divided.jpg'),\n",
       " WindowsPath('books/images/it-s-only-the-himalayas.jpg'),\n",
       " WindowsPath('books/images/join.jpg'),\n",
       " WindowsPath('books/images/judo-seven-steps-to-black-belt-an-introductory-guide-for-beginners.jpg'),\n",
       " WindowsPath('books/images/large-print-heart-of-the-pride.jpg'),\n",
       " WindowsPath('books/images/layered-baking-building-and-styling-spectacular-cakes.jpg'),\n",
       " WindowsPath('books/images/libertarianism-for-beginners.jpg'),\n",
       " WindowsPath('books/images/library-of-souls-miss-peregrines-peculiar-children-3.jpg'),\n",
       " WindowsPath('books/images/little-red.jpg'),\n",
       " WindowsPath('books/images/louisa-the-extraordinary-life-of-mrs-adams.jpg'),\n",
       " WindowsPath('books/images/lumberjanes-vol-1-beware-the-kitten-holy-lumberjanes-1-4.jpg'),\n",
       " WindowsPath('books/images/lumberjanes-vol-2-friendship-to-the-max-lumberjanes-5-8.jpg'),\n",
       " WindowsPath('books/images/lumberjanes-vol-3-a-terrible-plan-lumberjanes-9-12.jpg'),\n",
       " WindowsPath('books/images/mama-tried-traditional-italian-cooking-for-the-screwed-crude-vegan-and-tattooed.jpg'),\n",
       " WindowsPath('books/images/masks-and-shadows.jpg'),\n",
       " WindowsPath('books/images/maude-1883-1993-she-grew-up-with-the-country.jpg'),\n",
       " WindowsPath('books/images/mesaerion-the-best-science-fiction-stories-1800-1849.jpg'),\n",
       " WindowsPath('books/images/miss-peregrines-home-for-peculiar-children-miss-peregrines-peculiar-children-1.jpg'),\n",
       " WindowsPath('books/images/modern-romance.jpg'),\n",
       " WindowsPath('books/images/mrs-houdini.jpg'),\n",
       " WindowsPath('books/images/my-paris-kitchen-recipes-and-stories.jpg'),\n",
       " WindowsPath('books/images/night-sky-with-exit-wounds.jpg'),\n",
       " WindowsPath('books/images/nightingale-sing.jpg'),\n",
       " WindowsPath('books/images/obsidian-lux-1.jpg'),\n",
       " WindowsPath('books/images/olio.jpg'),\n",
       " WindowsPath('books/images/on-a-midnight-clear.jpg'),\n",
       " WindowsPath('books/images/online-marketing-for-busy-authors-a-step-by-step-guide.jpg'),\n",
       " WindowsPath('books/images/orange-the-complete-collection-1-orange-the-complete-collection-1.jpg'),\n",
       " WindowsPath('books/images/our-band-could-be-your-life-scenes-from-the-american-indie-underground-1981-1991.jpg'),\n",
       " WindowsPath('books/images/outcast-vol-1-a-darkness-surrounds-him-outcast-1.jpg'),\n",
       " WindowsPath('books/images/patience.jpg'),\n",
       " WindowsPath('books/images/penny-maybe.jpg'),\n",
       " WindowsPath('books/images/poems-that-make-grown-women-cry.jpg'),\n",
       " WindowsPath('books/images/political-suicide-missteps-peccadilloes-bad-calls-backroom-hijinx-sordid-pasts-rotten-breaks-and-just-plain-dumb-mistakes-in-the-annals-of-american-politics.jpg'),\n",
       " WindowsPath('books/images/pop-gun-war-volume-1-gift.jpg'),\n",
       " WindowsPath('books/images/poses-for-artists-volume-1-dynamic-and-sitting-poses-an-essential-reference-for-figure-drawing-and-the-human-form.jpg'),\n",
       " WindowsPath('books/images/princess-between-worlds-wide-awake-princess-5.jpg'),\n",
       " WindowsPath('books/images/princess-jellyfish-2-in-1-omnibus-vol-01-princess-jellyfish-2-in-1-omnibus-1.jpg'),\n",
       " WindowsPath('books/images/private-paris-private-10.jpg'),\n",
       " WindowsPath('books/images/rat-queens-vol-3-demons-rat-queens-collected-editions-11-15.jpg'),\n",
       " WindowsPath('books/images/reasons-to-stay-alive.jpg'),\n",
       " WindowsPath('books/images/redeeming-love.jpg'),\n",
       " WindowsPath('books/images/reskilling-america-learning-to-labor-in-the-twenty-first-century.jpg'),\n",
       " WindowsPath('books/images/rip-it-up-and-start-again.jpg'),\n",
       " WindowsPath('books/images/romero-and-juliet-a-tragic-tale-of-love-and-zombies.jpg'),\n",
       " WindowsPath('books/images/saga-volume-5-saga-collected-editions-5.jpg'),\n",
       " WindowsPath('books/images/saga-volume-6-saga-collected-editions-6.jpg'),\n",
       " WindowsPath('books/images/sapiens-a-brief-history-of-humankind.jpg'),\n",
       " WindowsPath('books/images/scarlett-epstein-hates-it-here.jpg'),\n",
       " WindowsPath('books/images/scott-pilgrim-s-precious-little-life-scott-pilgrim-1.jpg'),\n",
       " WindowsPath('books/images/secrets-and-lace-fatal-hearts-1.jpg'),\n",
       " WindowsPath('books/images/security.jpg'),\n",
       " WindowsPath('books/images/set-me-free.jpg'),\n",
       " WindowsPath('books/images/shakespeare-s-sonnets.jpg'),\n",
       " WindowsPath('books/images/sharp-objects.jpg'),\n",
       " WindowsPath('books/images/shobu-samurai-project-aryoku-3.jpg'),\n",
       " WindowsPath('books/images/shoe-dog-a-memoir-by-the-creator-of-nike.jpg'),\n",
       " WindowsPath('books/images/slow-states-of-collapse-poems.jpg'),\n",
       " WindowsPath('books/images/so-you-ve-been-publicly-shamed.jpg'),\n",
       " WindowsPath('books/images/soft-apocalypse.jpg'),\n",
       " WindowsPath('books/images/something-more-than-this.jpg'),\n",
       " WindowsPath('books/images/sophie-s-world.jpg'),\n",
       " WindowsPath('books/images/soul-reader.jpg'),\n",
       " WindowsPath('books/images/soumission.jpg'),\n",
       " WindowsPath('books/images/spark-joy-an-illustrated-master-class-on-the-art-of-organizing-and-tidying-up.jpg'),\n",
       " WindowsPath('books/images/starving-hearts-triangular-trade-trilogy-1.jpg'),\n",
       " WindowsPath('books/images/suddenly-in-love-lake-haven-1.jpg'),\n",
       " WindowsPath('books/images/the-10-entrepreneur-live-your-startup-dream-without-quitting-your-day-job.jpg'),\n",
       " WindowsPath('books/images/the-activist-s-tao-te-ching-ancient-advice-for-a-modern-revolution.jpg'),\n",
       " WindowsPath('books/images/the-age-of-genius-the-seventeenth-century-and-the-birth-of-the-modern-mind.jpg'),\n",
       " WindowsPath('books/images/the-argonauts.jpg'),\n",
       " WindowsPath('books/images/the-art-forger.jpg'),\n",
       " WindowsPath('books/images/the-art-of-war.jpg'),\n",
       " WindowsPath('books/images/the-artist-s-way-a-spiritual-path-to-higher-creativity.jpg'),\n",
       " WindowsPath('books/images/the-bear-and-the-piano.jpg'),\n",
       " WindowsPath('books/images/the-black-maria.jpg'),\n",
       " WindowsPath('books/images/the-boys-in-the-boat-nine-americans-and-their-epic-quest-for-gold-at-the-1936-berlin-olympics.jpg'),\n",
       " WindowsPath('books/images/the-bridge-to-consciousness-i-m-writing-the-bridge-between-science-and-our-old-and-new-beliefs.jpg'),\n",
       " WindowsPath('books/images/the-bulletproof-diet-lose-up-to-a-pound-a-day-reclaim-energy-and-focus-upgrade-your-life.jpg'),\n",
       " WindowsPath('books/images/the-coming-woman-a-novel-based-on-the-life-of-the-infamous-feminist-victoria-woodhull.jpg'),\n",
       " WindowsPath('books/images/the-cookies-cups-cookbook-125-sweet-savory-recipes-reminding-you-to-always-eat-dessert-first.jpg'),\n",
       " WindowsPath('books/images/the-death-of-humanity-and-the-case-for-life.jpg'),\n",
       " WindowsPath('books/images/the-dirty-little-secrets-of-getting-your-dream-job.jpg'),\n",
       " WindowsPath('books/images/the-electric-pencil-drawings-from-inside-state-hospital-no-3.jpg'),\n",
       " WindowsPath('books/images/the-elephant-tree.jpg'),\n",
       " WindowsPath('books/images/the-emerald-mystery.jpg'),\n",
       " WindowsPath('books/images/the-five-love-languages-how-to-express-heartfelt-commitment-to-your-mate.jpg'),\n",
       " WindowsPath('books/images/the-four-agreements-a-practical-guide-to-personal-freedom.jpg'),\n",
       " WindowsPath('books/images/the-genius-of-birds.jpg'),\n",
       " WindowsPath('books/images/the-girl-on-the-train.jpg'),\n",
       " WindowsPath('books/images/the-glittering-court-the-glittering-court-1.jpg'),\n",
       " WindowsPath('books/images/the-gutsy-girl-escapades-for-your-life-of-epic-adventure.jpg'),\n",
       " WindowsPath('books/images/the-house-by-the-lake.jpg'),\n",
       " WindowsPath('books/images/the-inefficiency-assassin-time-management-tactics-for-working-smarter-not-longer.jpg'),\n",
       " WindowsPath('books/images/the-kite-runner.jpg'),\n",
       " WindowsPath('books/images/the-life-changing-magic-of-tidying-up-the-japanese-art-of-decluttering-and-organizing.jpg'),\n",
       " WindowsPath('books/images/the-long-shadow-of-small-ghosts-murder-and-memory-in-an-american-city.jpg'),\n",
       " WindowsPath('books/images/the-love-and-lemons-cookbook-an-apple-to-zucchini-celebration-of-impromptu-cooking.jpg'),\n",
       " WindowsPath('books/images/the-matchmaker-s-playbook-wingmen-inc-1.jpg'),\n",
       " WindowsPath('books/images/the-mindfulness-and-acceptance-workbook-for-anxiety-a-guide-to-breaking-free-from-anxiety-phobias-and-worry-using-acceptance-and-commitment-therapy.jpg'),\n",
       " WindowsPath('books/images/the-mistake-off-campus-2.jpg'),\n",
       " WindowsPath('books/images/the-most-perfect-thing-inside-and-outside-a-bird-s-egg.jpg'),\n",
       " WindowsPath('books/images/the-murder-of-roger-ackroyd-hercule-poirot-4.jpg'),\n",
       " WindowsPath('books/images/the-murder-that-never-was-forensic-instincts-5.jpg'),\n",
       " WindowsPath('books/images/the-nameless-city-the-nameless-city-1.jpg'),\n",
       " WindowsPath('books/images/the-natural-history-of-us-the-fine-art-of-pretending-2.jpg'),\n",
       " WindowsPath('books/images/the-nerdy-nummies-cookbook-sweet-treats-for-the-geek-in-all-of-us.jpg'),\n",
       " WindowsPath('books/images/the-omnivore-s-dilemma-a-natural-history-of-four-meals.jpg'),\n",
       " WindowsPath('books/images/the-past-never-ends.jpg'),\n",
       " WindowsPath('books/images/the-pioneer-woman-cooks-dinnertime-comfort-classics-freezer-food-16-minute-meals-and-other-delicious-ways-to-solve-supper.jpg'),\n",
       " WindowsPath('books/images/the-power-of-now-a-guide-to-spiritual-enlightenment.jpg'),\n",
       " WindowsPath('books/images/the-project.jpg'),\n",
       " WindowsPath('books/images/the-psychopath-test-a-journey-through-the-madness-industry.jpg'),\n",
       " WindowsPath('books/images/the-regional-office-is-under-attack.jpg'),\n",
       " WindowsPath('books/images/the-requiem-red.jpg'),\n",
       " WindowsPath('books/images/the-secret-of-dreadwillow-carse.jpg'),\n",
       " WindowsPath('books/images/the-secret-the-secret-1.jpg'),\n",
       " WindowsPath('books/images/the-shadow-hero-the-shadow-hero.jpg'),\n",
       " WindowsPath('books/images/the-stranger.jpg'),\n",
       " WindowsPath('books/images/the-third-wave-an-entrepreneurs-vision-of-the-future.jpg'),\n",
       " WindowsPath('books/images/the-torch-is-passed-a-harding-family-story.jpg'),\n",
       " WindowsPath('books/images/the-vacationers.jpg'),\n",
       " WindowsPath('books/images/the-wedding-dress.jpg'),\n",
       " WindowsPath('books/images/the-white-cat-and-the-monk-a-retelling-of-the-poem-pangur-ban.jpg'),\n",
       " WindowsPath('books/images/thirst.jpg'),\n",
       " WindowsPath('books/images/thirteen-reasons-why.jpg'),\n",
       " WindowsPath('books/images/this-one-summer.jpg'),\n",
       " WindowsPath('books/images/thomas-jefferson-and-the-tripoli-pirates-the-forgotten-war-that-changed-american-history.jpg'),\n",
       " WindowsPath('books/images/throne-of-glass-throne-of-glass-1.jpg'),\n",
       " WindowsPath('books/images/throwing-rocks-at-the-google-bus-how-growth-became-the-enemy-of-prosperity.jpg'),\n",
       " WindowsPath('books/images/tipping-the-velvet.jpg'),\n",
       " WindowsPath('books/images/tracing-numbers-on-a-train.jpg'),\n",
       " WindowsPath('books/images/tsubasa-world-chronicle-2-tsubasa-world-chronicle-2.jpg'),\n",
       " WindowsPath('books/images/tuesday-nights-in-1980.jpg'),\n",
       " WindowsPath('books/images/un-qualified-how-god-uses-broken-people-to-do-big-things.jpg'),\n",
       " WindowsPath('books/images/unbound-how-eight-technologies-made-us-human-transformed-society-and-brought-our-world-to-the-brink.jpg'),\n",
       " WindowsPath('books/images/unicorn-tracks.jpg'),\n",
       " WindowsPath('books/images/unseen-city-the-majesty-of-pigeons-the-discreet-charm-of-snails-other-wonders-of-the-urban-wilderness.jpg'),\n",
       " WindowsPath('books/images/untitled-collection-sabbath-poems-2014.jpg'),\n",
       " WindowsPath('books/images/wall-and-piece.jpg'),\n",
       " WindowsPath('books/images/we-love-you-charlie-freeman.jpg'),\n",
       " WindowsPath('books/images/when-we-collided.jpg'),\n",
       " WindowsPath('books/images/william-shakespeare-s-star-wars-verily-a-new-hope-william-shakespeare-s-star-wars-4.jpg'),\n",
       " WindowsPath('books/images/without-borders-wanderlove-1.jpg'),\n",
       " WindowsPath('books/images/worlds-elsewhere-journeys-around-shakespeares-globe.jpg'),\n",
       " WindowsPath('books/images/you-are-what-you-love-the-spiritual-power-of-habit.jpg'),\n",
       " WindowsPath('books/images/you-can-t-bury-them-all-poems.jpg')]"
      ]
     },
     "execution_count": 19,
     "metadata": {},
     "output_type": "execute_result"
    }
   ],
   "source": [
    "[f for f in Path('books').rglob('*.jpg')]"
   ]
  },
  {
   "cell_type": "markdown",
   "metadata": {},
   "source": [
    "# Let's Make Something"
   ]
  },
  {
   "cell_type": "markdown",
   "metadata": {},
   "source": [
    "Under `base_dir`, Create a path to a file called `example.txt`."
   ]
  },
  {
   "cell_type": "code",
   "execution_count": 20,
   "metadata": {},
   "outputs": [],
   "source": [
    "file = base_dir / 'example.txt'"
   ]
  },
  {
   "cell_type": "markdown",
   "metadata": {},
   "source": [
    "Check to see if the file exists"
   ]
  },
  {
   "cell_type": "code",
   "execution_count": 21,
   "metadata": {},
   "outputs": [
    {
     "data": {
      "text/plain": [
       "False"
      ]
     },
     "execution_count": 21,
     "metadata": {},
     "output_type": "execute_result"
    }
   ],
   "source": [
    "file.exists()"
   ]
  },
  {
   "cell_type": "markdown",
   "metadata": {},
   "source": [
    "Write text to the file using one of the `pathlib` utility methods."
   ]
  },
  {
   "cell_type": "code",
   "execution_count": 22,
   "metadata": {},
   "outputs": [
    {
     "data": {
      "text/plain": [
       "5"
      ]
     },
     "execution_count": 22,
     "metadata": {},
     "output_type": "execute_result"
    }
   ],
   "source": [
    "file.write_text('PyRVA')"
   ]
  },
  {
   "cell_type": "markdown",
   "metadata": {},
   "source": [
    "See if the file exits now."
   ]
  },
  {
   "cell_type": "code",
   "execution_count": 23,
   "metadata": {},
   "outputs": [
    {
     "data": {
      "text/plain": [
       "True"
      ]
     },
     "execution_count": 23,
     "metadata": {},
     "output_type": "execute_result"
    }
   ],
   "source": [
    "file.exists()"
   ]
  },
  {
   "cell_type": "markdown",
   "metadata": {},
   "source": [
    "Get the text from the file using one of the `pathlib` utility methods."
   ]
  },
  {
   "cell_type": "code",
   "execution_count": 24,
   "metadata": {},
   "outputs": [
    {
     "data": {
      "text/plain": [
       "'PyRVA'"
      ]
     },
     "execution_count": 24,
     "metadata": {},
     "output_type": "execute_result"
    }
   ],
   "source": [
    "file.read_text()"
   ]
  },
  {
   "cell_type": "markdown",
   "metadata": {},
   "source": [
    "Under `base_dir`:\n",
    "\n",
    "* Create a new directory called `new`. \n",
    "* In `new`, create 26 sub directories based on the letters of the alphabet (you can use `string.ascii_lowercase` to iterate if you'd like). \n",
    "* Under each letter directory, create 10 directories numbered `0` -> `9` (you can use `range(10)` to iterate if you'd like.) \n",
    "* In each numbered directory, create a file called `file.txt` and write `PyRVA is Awesome!` to each file.\n",
    "\n",
    "You should only have one line in the code block that actually creates directories and one line in the code block that creates the file.\n",
    "\n",
    "What happens if you run the code block twice?"
   ]
  },
  {
   "cell_type": "code",
   "execution_count": 25,
   "metadata": {},
   "outputs": [],
   "source": [
    "for char in string.ascii_lowercase:\n",
    "    for i in range(10):\n",
    "        new = base_dir / 'new' / char / str(i)\n",
    "        new.mkdir(parents=True)        \n",
    "        (new / 'file.txt').write_text('PyRVA is Awesome!')"
   ]
  },
  {
   "cell_type": "markdown",
   "metadata": {},
   "source": [
    "Find all the `file.txt` files under `base_dir` and check that the number matches what you expected (this can be done in one line). If not, you might need to debug something."
   ]
  },
  {
   "cell_type": "code",
   "execution_count": 26,
   "metadata": {},
   "outputs": [
    {
     "data": {
      "text/plain": [
       "261"
      ]
     },
     "execution_count": 26,
     "metadata": {},
     "output_type": "execute_result"
    }
   ],
   "source": [
    "len([*base_dir.rglob('file.txt')])"
   ]
  },
  {
   "cell_type": "code",
   "execution_count": 27,
   "metadata": {},
   "outputs": [
    {
     "data": {
      "text/plain": [
       "[WindowsPath('C:/Users/bcohan/PycharmProjects/coding-night/pathlib/file.txt')]"
      ]
     },
     "execution_count": 27,
     "metadata": {},
     "output_type": "execute_result"
    }
   ],
   "source": [
    "[f for f in base_dir.rglob('file.txt') if 'new' not in str(f)]"
   ]
  },
  {
   "cell_type": "markdown",
   "metadata": {},
   "source": [
    "Now delete the `new` folder."
   ]
  },
  {
   "cell_type": "code",
   "execution_count": 28,
   "metadata": {},
   "outputs": [],
   "source": [
    "def rmdir(top: Path):\n",
    "    for file in top.iterdir():\n",
    "        if file.is_file():\n",
    "            file.unlink()\n",
    "        elif file.is_dir():\n",
    "            rmdir(file)\n",
    "    top.rmdir()\n",
    "            \n",
    "rmdir(base_dir / 'new')"
   ]
  },
  {
   "cell_type": "markdown",
   "metadata": {},
   "source": [
    "# Which Is Better?\n",
    "\n",
    "For these exercises, see if you can figure out the pathlib replacement for the following code blocks. There is a quick reference table at the bottom of the `pathlib` documentation, but I encourage you to read through the documentation without looking at the table. Once you have verified the output to be the same (don't worry about the `PosixPath()` `__repr__` value, as long as the result is the same otherwise, you can use `str()` if you really care about it), use the [`%%timeit`](https://ipython.readthedocs.io/en/stable/interactive/magics.html#magic-timeit) magic method to compare the speeds.\n",
    "\n",
    "Once you have compared the different methods, think about which of the follow things are important to you:\n",
    "\n",
    "* Speed of development (characters typed)\n",
    "* Speed of maintenance (how easy is it to read)\n",
    "* Speed of execution (how fast the code runs)"
   ]
  },
  {
   "cell_type": "markdown",
   "metadata": {},
   "source": [
    "Getting the parent of the current folder."
   ]
  },
  {
   "cell_type": "code",
   "execution_count": 29,
   "metadata": {},
   "outputs": [
    {
     "data": {
      "text/plain": [
       "'C:\\\\Users\\\\bcohan\\\\PycharmProjects\\\\coding-night'"
      ]
     },
     "execution_count": 29,
     "metadata": {},
     "output_type": "execute_result"
    }
   ],
   "source": [
    "os.path.dirname(os.path.dirname(os.path.abspath(__file__)))"
   ]
  },
  {
   "cell_type": "code",
   "execution_count": 30,
   "metadata": {},
   "outputs": [
    {
     "data": {
      "text/plain": [
       "WindowsPath('C:/Users/bcohan/PycharmProjects/coding-night')"
      ]
     },
     "execution_count": 30,
     "metadata": {},
     "output_type": "execute_result"
    }
   ],
   "source": [
    "Path(__file__).parents[1]"
   ]
  },
  {
   "cell_type": "markdown",
   "metadata": {},
   "source": [
    "Get the basename of the current file."
   ]
  },
  {
   "cell_type": "code",
   "execution_count": 31,
   "metadata": {},
   "outputs": [
    {
     "data": {
      "text/plain": [
       "'Challenge.ipynb'"
      ]
     },
     "execution_count": 31,
     "metadata": {},
     "output_type": "execute_result"
    }
   ],
   "source": [
    "os.path.basename(__file__)"
   ]
  },
  {
   "cell_type": "code",
   "execution_count": 32,
   "metadata": {},
   "outputs": [
    {
     "data": {
      "text/plain": [
       "'Challenge.ipynb'"
      ]
     },
     "execution_count": 32,
     "metadata": {},
     "output_type": "execute_result"
    }
   ],
   "source": [
    "Path(__file__).name"
   ]
  },
  {
   "cell_type": "markdown",
   "metadata": {},
   "source": [
    "Get the basename of the current file without the extension."
   ]
  },
  {
   "cell_type": "code",
   "execution_count": 33,
   "metadata": {},
   "outputs": [
    {
     "data": {
      "text/plain": [
       "'Challenge'"
      ]
     },
     "execution_count": 33,
     "metadata": {},
     "output_type": "execute_result"
    }
   ],
   "source": [
    "os.path.splitext(os.path.basename(__file__))[0]"
   ]
  },
  {
   "cell_type": "code",
   "execution_count": 34,
   "metadata": {},
   "outputs": [
    {
     "data": {
      "text/plain": [
       "'Challenge'"
      ]
     },
     "execution_count": 34,
     "metadata": {},
     "output_type": "execute_result"
    }
   ],
   "source": [
    "Path(__file__).stem"
   ]
  },
  {
   "cell_type": "markdown",
   "metadata": {},
   "source": [
    "Get the file extension of the current file."
   ]
  },
  {
   "cell_type": "code",
   "execution_count": 35,
   "metadata": {},
   "outputs": [
    {
     "data": {
      "text/plain": [
       "'.ipynb'"
      ]
     },
     "execution_count": 35,
     "metadata": {},
     "output_type": "execute_result"
    }
   ],
   "source": [
    "os.path.splitext(__file__)[1]"
   ]
  },
  {
   "cell_type": "code",
   "execution_count": 36,
   "metadata": {},
   "outputs": [
    {
     "data": {
      "text/plain": [
       "'.ipynb'"
      ]
     },
     "execution_count": 36,
     "metadata": {},
     "output_type": "execute_result"
    }
   ],
   "source": [
    "Path(__file__).suffix"
   ]
  },
  {
   "cell_type": "markdown",
   "metadata": {},
   "source": [
    "Create a `PurePath` with a different name in the same directory (file doesn't have to exist)."
   ]
  },
  {
   "cell_type": "code",
   "execution_count": 37,
   "metadata": {},
   "outputs": [
    {
     "data": {
      "text/plain": [
       "'C:\\\\Users\\\\bcohan\\\\PycharmProjects\\\\coding-night\\\\pathlib\\\\myfile.txt'"
      ]
     },
     "execution_count": 37,
     "metadata": {},
     "output_type": "execute_result"
    }
   ],
   "source": [
    "os.path.join(os.path.dirname(__file__), 'myfile.txt')"
   ]
  },
  {
   "cell_type": "code",
   "execution_count": 38,
   "metadata": {},
   "outputs": [
    {
     "data": {
      "text/plain": [
       "WindowsPath('C:/Users/bcohan/PycharmProjects/coding-night/pathlib/myfile.txt')"
      ]
     },
     "execution_count": 38,
     "metadata": {},
     "output_type": "execute_result"
    }
   ],
   "source": [
    "Path(__file__).with_name('myfile.txt')"
   ]
  },
  {
   "cell_type": "markdown",
   "metadata": {},
   "source": [
    "Create a `PurePath` of the same file with a different extension."
   ]
  },
  {
   "cell_type": "code",
   "execution_count": 39,
   "metadata": {},
   "outputs": [
    {
     "data": {
      "text/plain": [
       "'C:\\\\Users\\\\bcohan\\\\PycharmProjects\\\\coding-night\\\\pathlib\\\\Challenge.py'"
      ]
     },
     "execution_count": 39,
     "metadata": {},
     "output_type": "execute_result"
    }
   ],
   "source": [
    "os.path.join(os.path.dirname(__file__), os.path.basename(os.path.splitext(__file__)[0]) + '.py')"
   ]
  },
  {
   "cell_type": "code",
   "execution_count": 40,
   "metadata": {},
   "outputs": [
    {
     "data": {
      "text/plain": [
       "WindowsPath('C:/Users/bcohan/PycharmProjects/coding-night/pathlib/Challenge.py')"
      ]
     },
     "execution_count": 40,
     "metadata": {},
     "output_type": "execute_result"
    }
   ],
   "source": [
    "Path(__file__).with_suffix('.py')"
   ]
  },
  {
   "cell_type": "markdown",
   "metadata": {},
   "source": [
    "Get the home directory of the current user."
   ]
  },
  {
   "cell_type": "code",
   "execution_count": 41,
   "metadata": {},
   "outputs": [
    {
     "data": {
      "text/plain": [
       "'C:\\\\Users\\\\bcohan'"
      ]
     },
     "execution_count": 41,
     "metadata": {},
     "output_type": "execute_result"
    }
   ],
   "source": [
    "os.path.expanduser('~')"
   ]
  },
  {
   "cell_type": "code",
   "execution_count": 42,
   "metadata": {},
   "outputs": [
    {
     "data": {
      "text/plain": [
       "WindowsPath('C:/Users/bcohan')"
      ]
     },
     "execution_count": 42,
     "metadata": {},
     "output_type": "execute_result"
    }
   ],
   "source": [
    "Path.home()"
   ]
  },
  {
   "cell_type": "markdown",
   "metadata": {},
   "source": [
    "# Cleanup\n",
    "\n",
    "Run the following line to remove files created by this exercise (assuming you followed the suggested file names)."
   ]
  },
  {
   "cell_type": "code",
   "execution_count": 43,
   "metadata": {},
   "outputs": [],
   "source": [
    "cleanup()"
   ]
  }
 ],
 "metadata": {
  "kernelspec": {
   "display_name": "Python 3",
   "language": "python",
   "name": "python3"
  },
  "language_info": {
   "codemirror_mode": {
    "name": "ipython",
    "version": 3
   },
   "file_extension": ".py",
   "mimetype": "text/x-python",
   "name": "python",
   "nbconvert_exporter": "python",
   "pygments_lexer": "ipython3",
   "version": "3.7.0"
  }
 },
 "nbformat": 4,
 "nbformat_minor": 4
}
