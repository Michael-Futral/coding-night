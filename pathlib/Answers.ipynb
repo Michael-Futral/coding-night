{
 "cells": [
  {
   "cell_type": "markdown",
   "metadata": {},
   "source": [
    "# Pathlib Challenges\n",
    "\n",
    "For these challenges we will be getting familiar with the `pathlib` library.\n",
    "\n",
    "This topic was inspired by our own Organizer, Chris May. He wrote an article on [getting started with pathlib](https://everydaysuperpowers.dev/articles/stop-working-so-hard-paths-get-started-pathlib/) which also prompted him to write a [field guide](https://everydaysuperpowers.dev/documents/3/ES-Getting_Started_with_Pathlib.pdf) and [cheat sheet](https://everydaysuperpowers.dev/documents/2/pathlib_cheat_sheet-V1_200703.pdf). You can see his other articles and resources at https://everydaysuperpowers.dev. Feel free to look at the resources and the `pathlib` [documentation](https://docs.python.org/3/library/pathlib.html) as they serve as the basis for the exercises below.\n",
    "\n",
    "There are two kinds of Paths. The documentation states, \"*Path classes are divided between pure paths, which provide purely computational operations without I/O, and concrete paths, which inherit from pure paths but also provide I/O operations.*\" In other words,\n",
    "\n",
    "* **`PurePath`**: Performs path operations witout caring about what might actually be on the disk.\n",
    "* **`Path`**: Allows you to interact with files.\n",
    "\n",
    "Both `PurePath` and `Path` can be either Windows or Posix paths. Chances are that you will not need to worry about the operating system specific choice since `pathlib` will take care of all the specifics for you!\n",
    "\n",
    "One common shortcut to get the path of the current file is with the `__file__` variable. Due to how Jupyter Notebooks work, the `__file__` variable is not available, so it is mimmicked in the imports block. If you're not familiar with `__file__`, I suggest you look at [`__name__`](https://docs.python.org/3/library/__main__.html) and how python uses [dunder](https://dbader.org/blog/python-dunder-methods) attributes and methods."
   ]
  },
  {
   "cell_type": "code",
   "execution_count": 1,
   "metadata": {},
   "outputs": [
    {
     "name": "stderr",
     "output_type": "stream",
     "text": [
      "100%|██████████| 10/10 [00:02<00:00,  3.61it/s]\n",
      "100%|██████████| 200/200 [00:48<00:00,  4.10it/s]\n"
     ]
    },
    {
     "data": {
      "text/plain": [
       "'/home/cohan/Documents/projects/coding-night/pathlib/Challenge.ipynb'"
      ]
     },
     "execution_count": 1,
     "metadata": {},
     "output_type": "execute_result"
    }
   ],
   "source": [
    "import json\n",
    "import os\n",
    "import string\n",
    "from pathlib import Path\n",
    "from exercise import setup, cleanup\n",
    "\n",
    "setup()\n",
    "__file__ = os.path.join(os.getcwd(), 'Challenge.ipynb')\n",
    "__file__"
   ]
  },
  {
   "cell_type": "markdown",
   "metadata": {},
   "source": [
    "# Where am I?\n",
    "\n",
    "The Zen of Python states\n",
    "\n",
    "    There should be one-- and preferably only one --obvious way to do it.\n",
    "    Although that way may not be obvious at first unless you're Dutch.\n",
    "    \n",
    "So naturally it would follow that there are many ways to access the current directory as a place to start. There are 11 different methods shown below for gettinging the current directory. Take some time and look over how each line works. Some things to note:\n",
    "\n",
    "* `os.getcwd()` is shown, but only included for comparison purposes.\n",
    "* In all major operating systems `.` refers to the current directory and `..` referrs to the directory above.\n",
    "* Note the difference between lines with and without `.resolve()`\n",
    "* Note how `__file__` requires the `parent` attribute.\n",
    "* Note the difference between `.parent` and `.parents`.\n",
    "\n",
    "While these are all interchangable here, they are not always interchangeable. Some will refer to the working directory while others refer to the location of the script. Be careful with which one you choose. "
   ]
  },
  {
   "cell_type": "code",
   "execution_count": 2,
   "metadata": {},
   "outputs": [
    {
     "data": {
      "text/plain": [
       "['/home/cohan/Documents/projects/coding-night/pathlib',\n",
       " PosixPath('/home/cohan/Documents/projects/coding-night/pathlib'),\n",
       " PosixPath('/home/cohan/Documents/projects/coding-night/pathlib'),\n",
       " PosixPath('.'),\n",
       " PosixPath('/home/cohan/Documents/projects/coding-night/pathlib'),\n",
       " PosixPath('.'),\n",
       " PosixPath('/home/cohan/Documents/projects/coding-night/pathlib'),\n",
       " PosixPath('/home/cohan/Documents/projects/coding-night/pathlib/Challenge.ipynb/..'),\n",
       " PosixPath('/home/cohan/Documents/projects/coding-night/pathlib'),\n",
       " PosixPath('/home/cohan/Documents/projects/coding-night/pathlib'),\n",
       " PosixPath('/home/cohan/Documents/projects/coding-night/pathlib')]"
      ]
     },
     "execution_count": 2,
     "metadata": {},
     "output_type": "execute_result"
    }
   ],
   "source": [
    "[\n",
    "    os.getcwd(),\n",
    "    Path(os.getcwd()),\n",
    "    Path.cwd(),\n",
    "    Path(),\n",
    "    Path().resolve(),\n",
    "    Path('.'),\n",
    "    Path('.').resolve(),\n",
    "    Path(__file__) / '..',\n",
    "    (Path(__file__) / '..').resolve(),\n",
    "    Path(__file__).parent,\n",
    "    Path(__file__).parents[0],\n",
    "]"
   ]
  },
  {
   "cell_type": "markdown",
   "metadata": {},
   "source": [
    "Okay, now that you've looked at the different ways of accessing the current directory, use one of them to set a variable `base_dir` to the base of the repo (one parent up)"
   ]
  },
  {
   "cell_type": "code",
   "execution_count": 3,
   "metadata": {},
   "outputs": [],
   "source": [
    "base_dir = Path().resolve().parent"
   ]
  },
  {
   "cell_type": "markdown",
   "metadata": {},
   "source": [
    "How many directories are we away from the file system root? What are they?"
   ]
  },
  {
   "cell_type": "code",
   "execution_count": 4,
   "metadata": {},
   "outputs": [
    {
     "data": {
      "text/plain": [
       "[PosixPath('/home/cohan/Documents/projects'),\n",
       " PosixPath('/home/cohan/Documents'),\n",
       " PosixPath('/home/cohan'),\n",
       " PosixPath('/home'),\n",
       " PosixPath('/')]"
      ]
     },
     "execution_count": 4,
     "metadata": {},
     "output_type": "execute_result"
    }
   ],
   "source": [
    "[*base_dir.resolve().parents]"
   ]
  },
  {
   "cell_type": "markdown",
   "metadata": {},
   "source": [
    "# Who am I?\n",
    "\n",
    "Often, you might want to access the home directory of the user. Create a variable `home_dir` that refers to the current user's home directory (In windows, this is `C:\\Users\\<user>`, in Linux it's usually `/home/<user>`). Does the Path look right? If you launched this notebook by clicking the Binder link in the repo, [this](https://github.com/jupyter/docker-stacks/issues/358#issuecomment-288844834) might answer a question you're now asking.\n",
    "\n",
    "**You should not be hard coding the file path.**"
   ]
  },
  {
   "cell_type": "code",
   "execution_count": 5,
   "metadata": {},
   "outputs": [
    {
     "data": {
      "text/plain": [
       "PosixPath('/home/cohan')"
      ]
     },
     "execution_count": 5,
     "metadata": {},
     "output_type": "execute_result"
    }
   ],
   "source": [
    "home_dir = Path.home()\n",
    "home_dir"
   ]
  },
  {
   "cell_type": "markdown",
   "metadata": {},
   "source": [
    "# What Have We Got Here?\n",
    "\n",
    "Now that you know where you are, it's time to see what is there with you."
   ]
  },
  {
   "cell_type": "markdown",
   "metadata": {},
   "source": [
    "List all the items in the home directory."
   ]
  },
  {
   "cell_type": "code",
   "execution_count": 6,
   "metadata": {},
   "outputs": [
    {
     "data": {
      "text/plain": [
       "[PosixPath('/home/cohan/.ipvanish'),\n",
       " PosixPath('/home/cohan/.PyCharm2019.2'),\n",
       " PosixPath('/home/cohan/.ipynb_checkpoints'),\n",
       " PosixPath('/home/cohan/.wget-hsts'),\n",
       " PosixPath('/home/cohan/.inputrc'),\n",
       " PosixPath('/home/cohan/.vscode'),\n",
       " PosixPath('/home/cohan/Downloads'),\n",
       " PosixPath('/home/cohan/Documents'),\n",
       " PosixPath('/home/cohan/.thumbnails'),\n",
       " PosixPath('/home/cohan/.local'),\n",
       " PosixPath('/home/cohan/.gnupg'),\n",
       " PosixPath('/home/cohan/.ipython'),\n",
       " PosixPath('/home/cohan/dwhelper'),\n",
       " PosixPath('/home/cohan/.dropbox'),\n",
       " PosixPath('/home/cohan/.zoom'),\n",
       " PosixPath('/home/cohan/.ICEauthority'),\n",
       " PosixPath('/home/cohan/.java'),\n",
       " PosixPath('/home/cohan/.fs'),\n",
       " PosixPath('/home/cohan/.netrc'),\n",
       " PosixPath('/home/cohan/.docker'),\n",
       " PosixPath('/home/cohan/snap'),\n",
       " PosixPath('/home/cohan/.gitconfig'),\n",
       " PosixPath('/home/cohan/.steampath'),\n",
       " PosixPath('/home/cohan/.steampid'),\n",
       " PosixPath('/home/cohan/.profile'),\n",
       " PosixPath('/home/cohan/Dropbox'),\n",
       " PosixPath('/home/cohan/.steam'),\n",
       " PosixPath('/home/cohan/.virtualenvs'),\n",
       " PosixPath('/home/cohan/.sudo_as_admin_successful'),\n",
       " PosixPath('/home/cohan/.dropbox-dist'),\n",
       " PosixPath('/home/cohan/.bash_aliases'),\n",
       " PosixPath('/home/cohan/Pictures'),\n",
       " PosixPath('/home/cohan/.python_history'),\n",
       " PosixPath('/home/cohan/Videos'),\n",
       " PosixPath('/home/cohan/.pulse-cookie'),\n",
       " PosixPath('/home/cohan/Music'),\n",
       " PosixPath('/home/cohan/.mono'),\n",
       " PosixPath('/home/cohan/.cache'),\n",
       " PosixPath('/home/cohan/Templates'),\n",
       " PosixPath('/home/cohan/.PyCharm2019.3'),\n",
       " PosixPath('/home/cohan/Desktop'),\n",
       " PosixPath('/home/cohan/.ssr'),\n",
       " PosixPath('/home/cohan/.jupyter'),\n",
       " PosixPath('/home/cohan/.selected_editor'),\n",
       " PosixPath('/home/cohan/.bash_history'),\n",
       " PosixPath('/home/cohan/.config'),\n",
       " PosixPath('/home/cohan/.pki'),\n",
       " PosixPath('/home/cohan/.gphoto'),\n",
       " PosixPath('/home/cohan/Public'),\n",
       " PosixPath('/home/cohan/.mozilla'),\n",
       " PosixPath('/home/cohan/.ssh'),\n",
       " PosixPath('/home/cohan/.bashrc'),\n",
       " PosixPath('/home/cohan/.bash_logout'),\n",
       " PosixPath('/home/cohan/.gimp-2.8'),\n",
       " PosixPath('/home/cohan/.streamlit')]"
      ]
     },
     "execution_count": 6,
     "metadata": {},
     "output_type": "execute_result"
    }
   ],
   "source": [
    "[f for f in home_dir.iterdir()]"
   ]
  },
  {
   "cell_type": "markdown",
   "metadata": {},
   "source": [
    "Only list items in the home directory that are files."
   ]
  },
  {
   "cell_type": "code",
   "execution_count": 7,
   "metadata": {},
   "outputs": [
    {
     "data": {
      "text/plain": [
       "[PosixPath('/home/cohan/.wget-hsts'),\n",
       " PosixPath('/home/cohan/.inputrc'),\n",
       " PosixPath('/home/cohan/.ICEauthority'),\n",
       " PosixPath('/home/cohan/.fs'),\n",
       " PosixPath('/home/cohan/.netrc'),\n",
       " PosixPath('/home/cohan/.gitconfig'),\n",
       " PosixPath('/home/cohan/.steampid'),\n",
       " PosixPath('/home/cohan/.profile'),\n",
       " PosixPath('/home/cohan/.sudo_as_admin_successful'),\n",
       " PosixPath('/home/cohan/.bash_aliases'),\n",
       " PosixPath('/home/cohan/.python_history'),\n",
       " PosixPath('/home/cohan/.pulse-cookie'),\n",
       " PosixPath('/home/cohan/.selected_editor'),\n",
       " PosixPath('/home/cohan/.bash_history'),\n",
       " PosixPath('/home/cohan/.bashrc'),\n",
       " PosixPath('/home/cohan/.bash_logout')]"
      ]
     },
     "execution_count": 7,
     "metadata": {},
     "output_type": "execute_result"
    }
   ],
   "source": [
    "[f for f in home_dir.iterdir() if f.is_file()]"
   ]
  },
  {
   "cell_type": "markdown",
   "metadata": {},
   "source": [
    "Only list items in the home directory that are directories."
   ]
  },
  {
   "cell_type": "code",
   "execution_count": 8,
   "metadata": {},
   "outputs": [
    {
     "data": {
      "text/plain": [
       "[PosixPath('/home/cohan/.ipvanish'),\n",
       " PosixPath('/home/cohan/.PyCharm2019.2'),\n",
       " PosixPath('/home/cohan/.ipynb_checkpoints'),\n",
       " PosixPath('/home/cohan/.vscode'),\n",
       " PosixPath('/home/cohan/Downloads'),\n",
       " PosixPath('/home/cohan/Documents'),\n",
       " PosixPath('/home/cohan/.thumbnails'),\n",
       " PosixPath('/home/cohan/.local'),\n",
       " PosixPath('/home/cohan/.gnupg'),\n",
       " PosixPath('/home/cohan/.ipython'),\n",
       " PosixPath('/home/cohan/dwhelper'),\n",
       " PosixPath('/home/cohan/.dropbox'),\n",
       " PosixPath('/home/cohan/.zoom'),\n",
       " PosixPath('/home/cohan/.java'),\n",
       " PosixPath('/home/cohan/.docker'),\n",
       " PosixPath('/home/cohan/snap'),\n",
       " PosixPath('/home/cohan/Dropbox'),\n",
       " PosixPath('/home/cohan/.steam'),\n",
       " PosixPath('/home/cohan/.virtualenvs'),\n",
       " PosixPath('/home/cohan/.dropbox-dist'),\n",
       " PosixPath('/home/cohan/Pictures'),\n",
       " PosixPath('/home/cohan/Videos'),\n",
       " PosixPath('/home/cohan/Music'),\n",
       " PosixPath('/home/cohan/.mono'),\n",
       " PosixPath('/home/cohan/.cache'),\n",
       " PosixPath('/home/cohan/Templates'),\n",
       " PosixPath('/home/cohan/.PyCharm2019.3'),\n",
       " PosixPath('/home/cohan/Desktop'),\n",
       " PosixPath('/home/cohan/.ssr'),\n",
       " PosixPath('/home/cohan/.jupyter'),\n",
       " PosixPath('/home/cohan/.config'),\n",
       " PosixPath('/home/cohan/.pki'),\n",
       " PosixPath('/home/cohan/.gphoto'),\n",
       " PosixPath('/home/cohan/Public'),\n",
       " PosixPath('/home/cohan/.mozilla'),\n",
       " PosixPath('/home/cohan/.ssh'),\n",
       " PosixPath('/home/cohan/.gimp-2.8'),\n",
       " PosixPath('/home/cohan/.streamlit')]"
      ]
     },
     "execution_count": 8,
     "metadata": {},
     "output_type": "execute_result"
    }
   ],
   "source": [
    "[d for d in home_dir.iterdir() if d.is_dir()]"
   ]
  },
  {
   "cell_type": "markdown",
   "metadata": {},
   "source": [
    "Find all the notebooks under `base_dir` (`.ipynb`)"
   ]
  },
  {
   "cell_type": "code",
   "execution_count": 9,
   "metadata": {},
   "outputs": [
    {
     "data": {
      "text/plain": [
       "[PosixPath('/home/cohan/Documents/projects/coding-night/pathlib/Answers.ipynb'),\n",
       " PosixPath('/home/cohan/Documents/projects/coding-night/pathlib/.ipynb_checkpoints/Answers-checkpoint.ipynb'),\n",
       " PosixPath('/home/cohan/Documents/projects/coding-night/venv/lib/python3.7/site-packages/nbformat/tests/test4plus.ipynb'),\n",
       " PosixPath('/home/cohan/Documents/projects/coding-night/venv/lib/python3.7/site-packages/nbformat/tests/test4.ipynb'),\n",
       " PosixPath('/home/cohan/Documents/projects/coding-night/venv/lib/python3.7/site-packages/nbformat/tests/test4custom.ipynb'),\n",
       " PosixPath('/home/cohan/Documents/projects/coding-night/venv/lib/python3.7/site-packages/nbformat/tests/test4docinfo.ipynb'),\n",
       " PosixPath('/home/cohan/Documents/projects/coding-night/venv/lib/python3.7/site-packages/nbformat/tests/invalid.ipynb'),\n",
       " PosixPath('/home/cohan/Documents/projects/coding-night/venv/lib/python3.7/site-packages/nbformat/tests/test2.ipynb'),\n",
       " PosixPath('/home/cohan/Documents/projects/coding-night/venv/lib/python3.7/site-packages/nbformat/tests/test4jupyter_metadata.ipynb'),\n",
       " PosixPath('/home/cohan/Documents/projects/coding-night/venv/lib/python3.7/site-packages/nbformat/tests/test4jupyter_metadata_timings.ipynb'),\n",
       " PosixPath('/home/cohan/Documents/projects/coding-night/venv/lib/python3.7/site-packages/nbformat/tests/test3.ipynb'),\n",
       " PosixPath('/home/cohan/Documents/projects/coding-night/venv/lib/python3.7/site-packages/notebook/bundler/tests/resources/empty.ipynb'),\n",
       " PosixPath('/home/cohan/Documents/projects/coding-night/venv/lib/python3.7/site-packages/nbconvert/preprocessors/tests/files/Parallel Execute B.ipynb'),\n",
       " PosixPath('/home/cohan/Documents/projects/coding-night/venv/lib/python3.7/site-packages/nbconvert/preprocessors/tests/files/Factorials.ipynb'),\n",
       " PosixPath('/home/cohan/Documents/projects/coding-night/venv/lib/python3.7/site-packages/nbconvert/preprocessors/tests/files/Interrupt.ipynb'),\n",
       " PosixPath('/home/cohan/Documents/projects/coding-night/venv/lib/python3.7/site-packages/nbconvert/preprocessors/tests/files/Check History in Memory.ipynb'),\n",
       " PosixPath('/home/cohan/Documents/projects/coding-night/venv/lib/python3.7/site-packages/nbconvert/preprocessors/tests/files/update-display-id.ipynb'),\n",
       " PosixPath('/home/cohan/Documents/projects/coding-night/venv/lib/python3.7/site-packages/nbconvert/preprocessors/tests/files/Interrupt-IPY6.ipynb'),\n",
       " PosixPath('/home/cohan/Documents/projects/coding-night/venv/lib/python3.7/site-packages/nbconvert/preprocessors/tests/files/Parallel Execute A.ipynb'),\n",
       " PosixPath('/home/cohan/Documents/projects/coding-night/venv/lib/python3.7/site-packages/nbconvert/preprocessors/tests/files/Skip Exceptions-IPY6.ipynb'),\n",
       " PosixPath('/home/cohan/Documents/projects/coding-night/venv/lib/python3.7/site-packages/nbconvert/preprocessors/tests/files/Clear Output.ipynb'),\n",
       " PosixPath('/home/cohan/Documents/projects/coding-night/venv/lib/python3.7/site-packages/nbconvert/preprocessors/tests/files/Skip Exceptions with Cell Tags.ipynb'),\n",
       " PosixPath('/home/cohan/Documents/projects/coding-night/venv/lib/python3.7/site-packages/nbconvert/preprocessors/tests/files/Inline Image.ipynb'),\n",
       " PosixPath('/home/cohan/Documents/projects/coding-night/venv/lib/python3.7/site-packages/nbconvert/preprocessors/tests/files/Sleep One.ipynb'),\n",
       " PosixPath('/home/cohan/Documents/projects/coding-night/venv/lib/python3.7/site-packages/nbconvert/preprocessors/tests/files/Disable Stdin.ipynb'),\n",
       " PosixPath('/home/cohan/Documents/projects/coding-night/venv/lib/python3.7/site-packages/nbconvert/preprocessors/tests/files/Skip Exceptions with Cell Tags-IPY6.ipynb'),\n",
       " PosixPath('/home/cohan/Documents/projects/coding-night/venv/lib/python3.7/site-packages/nbconvert/preprocessors/tests/files/UnicodePy3.ipynb'),\n",
       " PosixPath('/home/cohan/Documents/projects/coding-night/venv/lib/python3.7/site-packages/nbconvert/preprocessors/tests/files/SVG.ipynb'),\n",
       " PosixPath('/home/cohan/Documents/projects/coding-night/venv/lib/python3.7/site-packages/nbconvert/preprocessors/tests/files/HelloWorld.ipynb'),\n",
       " PosixPath('/home/cohan/Documents/projects/coding-night/venv/lib/python3.7/site-packages/nbconvert/preprocessors/tests/files/Empty Cell.ipynb'),\n",
       " PosixPath('/home/cohan/Documents/projects/coding-night/venv/lib/python3.7/site-packages/nbconvert/preprocessors/tests/files/Skip Exceptions.ipynb'),\n",
       " PosixPath('/home/cohan/Documents/projects/coding-night/venv/lib/python3.7/site-packages/nbconvert/preprocessors/tests/files/Unicode.ipynb'),\n",
       " PosixPath('/home/cohan/Documents/projects/coding-night/venv/lib/python3.7/site-packages/nbconvert/preprocessors/tests/files/JupyterWidgets.ipynb'),\n",
       " PosixPath('/home/cohan/Documents/projects/coding-night/venv/lib/python3.7/site-packages/nbconvert/exporters/tests/files/attachment.ipynb'),\n",
       " PosixPath('/home/cohan/Documents/projects/coding-night/venv/lib/python3.7/site-packages/nbconvert/exporters/tests/files/notebook2.ipynb'),\n",
       " PosixPath('/home/cohan/Documents/projects/coding-night/venv/lib/python3.7/site-packages/nbconvert/exporters/tests/files/svg.ipynb'),\n",
       " PosixPath('/home/cohan/Documents/projects/coding-night/venv/lib/python3.7/site-packages/nbconvert/exporters/tests/files/prompt_numbers.ipynb'),\n",
       " PosixPath('/home/cohan/Documents/projects/coding-night/venv/lib/python3.7/site-packages/nbconvert/exporters/tests/files/pngmetadata.ipynb'),\n",
       " PosixPath('/home/cohan/Documents/projects/coding-night/venv/lib/python3.7/site-packages/nbconvert/exporters/tests/files/rawtest.ipynb'),\n",
       " PosixPath('/home/cohan/Documents/projects/coding-night/venv/lib/python3.7/site-packages/nbconvert/tests/files/notebook1.ipynb'),\n",
       " PosixPath('/home/cohan/Documents/projects/coding-night/venv/lib/python3.7/site-packages/nbconvert/tests/files/notebook2.ipynb'),\n",
       " PosixPath('/home/cohan/Documents/projects/coding-night/venv/lib/python3.7/site-packages/nbconvert/tests/files/markdown_display_priority.ipynb'),\n",
       " PosixPath('/home/cohan/Documents/projects/coding-night/venv/lib/python3.7/site-packages/nbconvert/tests/files/latex-linked-image.ipynb'),\n",
       " PosixPath('/home/cohan/Documents/projects/coding-night/venv/lib/python3.7/site-packages/nbconvert/tests/files/notebook_tags.ipynb'),\n",
       " PosixPath('/home/cohan/Documents/projects/coding-night/venv/lib/python3.7/site-packages/nbconvert/tests/files/notebook4_jpeg.ipynb'),\n",
       " PosixPath('/home/cohan/Documents/projects/coding-night/venv/lib/python3.7/site-packages/nbconvert/tests/files/notebook_jl.ipynb'),\n",
       " PosixPath('/home/cohan/Documents/projects/coding-night/venv/lib/python3.7/site-packages/nbconvert/tests/files/Widget_List.ipynb'),\n",
       " PosixPath('/home/cohan/Documents/projects/coding-night/venv/lib/python3.7/site-packages/nbconvert/tests/files/notebook3_with_errors.ipynb'),\n",
       " PosixPath('/home/cohan/Documents/projects/coding-night/web-scraping-intro/Challenge.ipynb'),\n",
       " PosixPath('/home/cohan/Documents/projects/coding-night/web-scraping-intro/Answers.ipynb')]"
      ]
     },
     "execution_count": 9,
     "metadata": {},
     "output_type": "execute_result"
    }
   ],
   "source": [
    "[f for f in base_dir.rglob('*.ipynb')]"
   ]
  },
  {
   "cell_type": "markdown",
   "metadata": {},
   "source": [
    "What versions of python are installed on this machine? (If you're running linux or mac, look for files containing `python` under `/usr/bin`. If using windows, skip this and the next challenge.)"
   ]
  },
  {
   "cell_type": "code",
   "execution_count": 10,
   "metadata": {},
   "outputs": [
    {
     "data": {
      "text/plain": [
       "[PosixPath('/usr/bin/python3.6-config'),\n",
       " PosixPath('/usr/bin/python3m-config'),\n",
       " PosixPath('/usr/bin/python3m'),\n",
       " PosixPath('/usr/bin/python-config'),\n",
       " PosixPath('/usr/bin/python'),\n",
       " PosixPath('/usr/bin/python2-config'),\n",
       " PosixPath('/usr/bin/python3.8'),\n",
       " PosixPath('/usr/bin/python3.6m-config'),\n",
       " PosixPath('/usr/bin/python3.6m'),\n",
       " PosixPath('/usr/bin/python2.7'),\n",
       " PosixPath('/usr/bin/python3.7'),\n",
       " PosixPath('/usr/bin/python2.7-config'),\n",
       " PosixPath('/usr/bin/python3.7m'),\n",
       " PosixPath('/usr/bin/python3'),\n",
       " PosixPath('/usr/bin/python2'),\n",
       " PosixPath('/usr/bin/python3.6'),\n",
       " PosixPath('/usr/bin/python3-config')]"
      ]
     },
     "execution_count": 10,
     "metadata": {},
     "output_type": "execute_result"
    }
   ],
   "source": [
    "[f for f in Path('/usr/bin').glob('python*')]"
   ]
  },
  {
   "cell_type": "markdown",
   "metadata": {},
   "source": [
    "Which python files are just symbolic links to actual files?"
   ]
  },
  {
   "cell_type": "code",
   "execution_count": 11,
   "metadata": {},
   "outputs": [
    {
     "data": {
      "text/plain": [
       "[PosixPath('/usr/bin/python3.6-config'),\n",
       " PosixPath('/usr/bin/python3m-config'),\n",
       " PosixPath('/usr/bin/python3m'),\n",
       " PosixPath('/usr/bin/python-config'),\n",
       " PosixPath('/usr/bin/python'),\n",
       " PosixPath('/usr/bin/python2-config'),\n",
       " PosixPath('/usr/bin/python3.6m-config'),\n",
       " PosixPath('/usr/bin/python2.7-config'),\n",
       " PosixPath('/usr/bin/python3'),\n",
       " PosixPath('/usr/bin/python2'),\n",
       " PosixPath('/usr/bin/python3-config')]"
      ]
     },
     "execution_count": 11,
     "metadata": {},
     "output_type": "execute_result"
    }
   ],
   "source": [
    "[f for f in Path('/usr/bin').glob('python*') if f.is_symlink()]"
   ]
  },
  {
   "cell_type": "markdown",
   "metadata": {},
   "source": [
    "Print the contents of `requirements.txt` under `base_dir`. Do this with one line."
   ]
  },
  {
   "cell_type": "code",
   "execution_count": 12,
   "metadata": {},
   "outputs": [
    {
     "name": "stdout",
     "output_type": "stream",
     "text": [
      "beautifulsoup4>=4.9.1\n",
      "jupyterlab>=2.1.4\n",
      "nbstripout>=0.3.8\n",
      "python-slugify>=4.0.0\n",
      "requests>=2.23.0\n",
      "scrapy>=2.1.0\n",
      "selenium>=3.141.0\n",
      "tabulate>=0.8.7\n",
      "tqdm>=4.47.0\n"
     ]
    }
   ],
   "source": [
    "print(base_dir.joinpath('requirements.txt').read_text())"
   ]
  },
  {
   "cell_type": "markdown",
   "metadata": {},
   "source": [
    "# File Properties"
   ]
  },
  {
   "cell_type": "code",
   "execution_count": 13,
   "metadata": {},
   "outputs": [],
   "source": [
    "# year_ago = datetime.datetime.now() - datetime.timedelta(days=365)\n",
    "\n",
    "# for f in Path.home().iterdir():\n",
    "#     try:\n",
    "#         mtime = datetime.datetime.fromtimestamp(f.stat().st_mtime)\n",
    "#         if mtime < year_ago:\n",
    "#             print(f, mtime)\n",
    "#     except FileNotFoundError:\n",
    "#         pass"
   ]
  },
  {
   "cell_type": "markdown",
   "metadata": {},
   "source": [
    "# Rename Files\n",
    "\n",
    "The `setup()` function at the top of the notebook downloaded images from the first 10 pages from http://books.toscrape.com/ and compiled the data into a json file."
   ]
  },
  {
   "cell_type": "markdown",
   "metadata": {},
   "source": [
    "The json file and images are located in a directory called `books`. List all the images in the directory. (They are all jpg)"
   ]
  },
  {
   "cell_type": "code",
   "execution_count": 14,
   "metadata": {},
   "outputs": [
    {
     "data": {
      "text/plain": [
       "[PosixPath('books/images/f34ffb24cc21c9f9f52dad4fd8f3ac21.jpg'),\n",
       " PosixPath('books/images/d61b12ef0e69d49e2645537dd6a8472a.jpg'),\n",
       " PosixPath('books/images/106e2fc7160712edf8e2ff996dc8cd6c.jpg'),\n",
       " PosixPath('books/images/ccbdae9e29b3594301528fa2c876ec29.jpg'),\n",
       " PosixPath('books/images/8a490347afdc10abe7c2099e466de32f.jpg'),\n",
       " PosixPath('books/images/261c4eaf957ae4aacf2229b482e76dbe.jpg'),\n",
       " PosixPath('books/images/974709d437b08e74649b5744471bf472.jpg'),\n",
       " PosixPath('books/images/553310a7162dfbc2c6d19a84da0df9e1.jpg'),\n",
       " PosixPath('books/images/0d1f3f934460f5a50aaa8c366641234c.jpg'),\n",
       " PosixPath('books/images/3e0b16851bec08b6cbf78d5f64af9114.jpg'),\n",
       " PosixPath('books/images/f85417465a73e33604624205ba8306cc.jpg'),\n",
       " PosixPath('books/images/6625e3bbb050de3e42a0c302c0d69f1f.jpg'),\n",
       " PosixPath('books/images/d3158e8d3546fb90cced3c1d44a92a34.jpg'),\n",
       " PosixPath('books/images/16d443437126bf6d536a89312c1995a5.jpg'),\n",
       " PosixPath('books/images/44ccc99c8f82c33d4f9d2afa4ef25787.jpg'),\n",
       " PosixPath('books/images/cfbb5e62715c6d888fd07794c9bab5d6.jpg'),\n",
       " PosixPath('books/images/0338682e76bad3216cd4c6c28b2b625a.jpg'),\n",
       " PosixPath('books/images/e9f4bc8cf5ffaea1504623c936e90a48.jpg'),\n",
       " PosixPath('books/images/0efe86960cdff718aed01a5c3f65b1c3.jpg'),\n",
       " PosixPath('books/images/e41d34204a1fffbf825d8beb3dbf4cbc.jpg'),\n",
       " PosixPath('books/images/5a89e2dd7866dda6660fe508bc4b5249.jpg'),\n",
       " PosixPath('books/images/e15c289ba58cea38519e1281e859f0c1.jpg'),\n",
       " PosixPath('books/images/18086e581ad354aa65f945c2b5c51350.jpg'),\n",
       " PosixPath('books/images/1ebbbc3e2d3249b111033cfc40763b0b.jpg'),\n",
       " PosixPath('books/images/7ea062007ef00107e3c16d336b41fab2.jpg'),\n",
       " PosixPath('books/images/2121ba78e26194d92c334fde3850f840.jpg'),\n",
       " PosixPath('books/images/6444dacdcb9edaadbbd691524622aeb8.jpg'),\n",
       " PosixPath('books/images/c4ddd9ced89966b0602ec85e00cd5b61.jpg'),\n",
       " PosixPath('books/images/0f7ee69495c0df1d35723f012624a9f8.jpg'),\n",
       " PosixPath('books/images/32d6aa560e8ddf2a4da1526b95d4c7ab.jpg'),\n",
       " PosixPath('books/images/81586cd0bf8743e1f5ed80b6a0e1fabe.jpg'),\n",
       " PosixPath('books/images/d48d5122a15347e9fe2b15ad354d69bf.jpg'),\n",
       " PosixPath('books/images/feb764b2afa54991cfdbbffdf501b333.jpg'),\n",
       " PosixPath('books/images/6fd92e5143cbd5bb8bcf034e5f007dde.jpg'),\n",
       " PosixPath('books/images/feeafd2ad7b3077f8e74cbb1da9e3c7d.jpg'),\n",
       " PosixPath('books/images/6d71e36c8b1b9c885e1bb6c72cd8bcf8.jpg'),\n",
       " PosixPath('books/images/260c6ae16bce31c8f8c95daddd9f4a1c.jpg'),\n",
       " PosixPath('books/images/10c61093002db1fec4089d8076678624.jpg'),\n",
       " PosixPath('books/images/f565af3d9dd20a1ad72a1e7c4157387d.jpg'),\n",
       " PosixPath('books/images/f479de5f305c2ac0512702cf7155bb74.jpg'),\n",
       " PosixPath('books/images/5f72c8a0d5a7292e2929a354ec8a022f.jpg'),\n",
       " PosixPath('books/images/c40a64f59e7487b1a80a049f6ceb2ba5.jpg'),\n",
       " PosixPath('books/images/57770cac1628f4407636635f4b85e88c.jpg'),\n",
       " PosixPath('books/images/ee3e219d23e73ba71c79b700f183aaed.jpg'),\n",
       " PosixPath('books/images/b7e84b78be3d9bb79b71156a5e5d4e42.jpg'),\n",
       " PosixPath('books/images/5fb1bf88dcfda795606745ce35be5975.jpg'),\n",
       " PosixPath('books/images/95647d6a526bf54120b9445e124794e1.jpg'),\n",
       " PosixPath('books/images/f5889d038f5d8e949b494d147c2dcf54.jpg'),\n",
       " PosixPath('books/images/8025b80a40178f2a6dd4f99ad88e0fba.jpg'),\n",
       " PosixPath('books/images/84acb0606c96e55dc729a9d6572a08fb.jpg'),\n",
       " PosixPath('books/images/6494bf61176ca73b61255909230030be.jpg'),\n",
       " PosixPath('books/images/1048f63d3b5061cd2f424d20b3f9b666.jpg'),\n",
       " PosixPath('books/images/c4a2a1a026c67bcceb5a411c724d7d0c.jpg'),\n",
       " PosixPath('books/images/518c184a793b751b43045637c8002eb7.jpg'),\n",
       " PosixPath('books/images/6bdae061cb92c32b0b83cda8dd10275d.jpg'),\n",
       " PosixPath('books/images/12f1963957f27fa83d51f76b183ef490.jpg'),\n",
       " PosixPath('books/images/6ed4991d97f60db29ec7b421e61a2cf3.jpg'),\n",
       " PosixPath('books/images/5b88c52633f53cacf162c15f4f823153.jpg'),\n",
       " PosixPath('books/images/61bdfe3950643c47d70c37c4123530f3.jpg'),\n",
       " PosixPath('books/images/372578cc073efae80cf284b56040a488.jpg'),\n",
       " PosixPath('books/images/088995e862aac86c88c608d763f6390e.jpg'),\n",
       " PosixPath('books/images/da8bc9b824dd3f446ef63e438ddbfc85.jpg'),\n",
       " PosixPath('books/images/038650c9e7517b4baf2a423cd8eed38f.jpg'),\n",
       " PosixPath('books/images/d077a30042df6b916bfc8d257345c69e.jpg'),\n",
       " PosixPath('books/images/aa74004807e97a79aa084b5db329a99b.jpg'),\n",
       " PosixPath('books/images/a74b35375ce874153fd352e33bc7bac9.jpg'),\n",
       " PosixPath('books/images/c82f629a31b3f47bdb17ac14aa51076d.jpg'),\n",
       " PosixPath('books/images/ea0476a6f4c318ceccf5e2f2b39f2b15.jpg'),\n",
       " PosixPath('books/images/2d4e358712e6c9f1d3bdd78d1a16e5a8.jpg'),\n",
       " PosixPath('books/images/d6da0371958068bbaf39ea9c174275cd.jpg'),\n",
       " PosixPath('books/images/889e0bac4c7c0e7178f0165b8d3b4617.jpg'),\n",
       " PosixPath('books/images/01726c619a05114dca75bd840095016d.jpg'),\n",
       " PosixPath('books/images/a5416b9646aaa7287baa287ec2590270.jpg'),\n",
       " PosixPath('books/images/20f28657b49f8cb24ed2ec6448bb6df3.jpg'),\n",
       " PosixPath('books/images/4e0f05ae01d8fb6bd0d3901edd06de16.jpg'),\n",
       " PosixPath('books/images/ef0bed08de4e083dba5e20fdb98d9c36.jpg'),\n",
       " PosixPath('books/images/9f59f01fa916a7bb8f0b28a4012179a4.jpg'),\n",
       " PosixPath('books/images/66883b91f6804b2323c8369331cb7dd1.jpg'),\n",
       " PosixPath('books/images/4a3b055f9e378a95fedbef55e7bab7ce.jpg'),\n",
       " PosixPath('books/images/1357c6aa40c9e63d2f931927fbf81f3f.jpg'),\n",
       " PosixPath('books/images/68339b4c9bc034267e1da611ab3b34f8.jpg'),\n",
       " PosixPath('books/images/cddb3eb483ef11a088d519205b7098fb.jpg'),\n",
       " PosixPath('books/images/69852567cf97264a1442cbc882c84903.jpg'),\n",
       " PosixPath('books/images/5cc8e107246cb478960d4f0aba1e1c8e.jpg'),\n",
       " PosixPath('books/images/82939ca78da0b724f16ec814849514fd.jpg'),\n",
       " PosixPath('books/images/5846057e28022268153beff6d352b06c.jpg'),\n",
       " PosixPath('books/images/e9250495a525eb203652ad9da85ccb8e.jpg'),\n",
       " PosixPath('books/images/0237b445efc18c5562355a5a2c40889c.jpg'),\n",
       " PosixPath('books/images/7897eea91c4a85aca58d925861d4afec.jpg'),\n",
       " PosixPath('books/images/75dce2f5949b407161f37f0af249b018.jpg'),\n",
       " PosixPath('books/images/f3efd43ae0fa85d9b325d5e8783e7af5.jpg'),\n",
       " PosixPath('books/images/7176317f1915fa0658bb2fe400441207.jpg'),\n",
       " PosixPath('books/images/5f152afdbc42356ecba02f61058a7e5b.jpg'),\n",
       " PosixPath('books/images/81c4a973364e17d01f217e1188253d5e.jpg'),\n",
       " PosixPath('books/images/bef44da28c98f905a3ebec0b87be8530.jpg'),\n",
       " PosixPath('books/images/54899b4584e941ceced511d81092c88a.jpg'),\n",
       " PosixPath('books/images/2878538a1039d9c4649110499a1393fb.jpg'),\n",
       " PosixPath('books/images/e9203b733126c4a0832a1c7885dc27cf.jpg'),\n",
       " PosixPath('books/images/1f621dda1b302fc16d83d94b0b5ac31c.jpg'),\n",
       " PosixPath('books/images/f688a9d6a89fdf38e4e88439ee9eda69.jpg'),\n",
       " PosixPath('books/images/5d7f496cdf5e5962a73ecdcc1505c1d5.jpg'),\n",
       " PosixPath('books/images/1253c21c5ef3c6d075c5fa3f5fecee6a.jpg'),\n",
       " PosixPath('books/images/e260b008b7ea7970562295b7bc64b0cb.jpg'),\n",
       " PosixPath('books/images/6a81103b1c01a3f6c56e5718a838a4c8.jpg'),\n",
       " PosixPath('books/images/28992d89f4abf54fba183fc8d074adf3.jpg'),\n",
       " PosixPath('books/images/953013d044aa313cc162dec414f3969a.jpg'),\n",
       " PosixPath('books/images/f1731459b1e2f4becf2c52b8f30b8cd7.jpg'),\n",
       " PosixPath('books/images/01264865c12ed6d987d6f0858cd1d0ba.jpg'),\n",
       " PosixPath('books/images/98d1c979c4bac9e147a6718946578b0f.jpg'),\n",
       " PosixPath('books/images/2554431c797ec725eea50b3f8a83758c.jpg'),\n",
       " PosixPath('books/images/27d20361745ec2f7be668b18a4da29da.jpg'),\n",
       " PosixPath('books/images/061811c5845d0e13bc04b2a755f0830f.jpg'),\n",
       " PosixPath('books/images/12f8002e5aab6d783e29b31aad36b5ba.jpg'),\n",
       " PosixPath('books/images/5f52b1bc6d45daab2e330c744feb0359.jpg'),\n",
       " PosixPath('books/images/3251cf3a3412f53f339e42cac2134093.jpg'),\n",
       " PosixPath('books/images/34f5f8e513c5f048241f5695e61b2483.jpg'),\n",
       " PosixPath('books/images/5d72709c6a7a9584a4d1cf07648bfce1.jpg'),\n",
       " PosixPath('books/images/dadfac66a89774b46b10225362724c83.jpg'),\n",
       " PosixPath('books/images/36df4caaf1420b1183a8235355d39e69.jpg'),\n",
       " PosixPath('books/images/641570cd7e7aded53c7d33d78a9629f1.jpg'),\n",
       " PosixPath('books/images/bde95ab9f776c911a7aa759cad60bb41.jpg'),\n",
       " PosixPath('books/images/f86d08178e3788563ac17be5aefd29f0.jpg'),\n",
       " PosixPath('books/images/a543b100a8c1861c1bf5374ca6b576fe.jpg'),\n",
       " PosixPath('books/images/23b42e094c02d52b14b11a960d49610e.jpg'),\n",
       " PosixPath('books/images/03886a8502ca54dbce0d91c2568ab69d.jpg'),\n",
       " PosixPath('books/images/89b850edb01851a91f64ba114b96acb6.jpg'),\n",
       " PosixPath('books/images/29fe70b1b2e5a9ba61d4bd331255e19e.jpg'),\n",
       " PosixPath('books/images/768ea5924ac1ef6297c2be9959c796c2.jpg'),\n",
       " PosixPath('books/images/b7f4843dbe062d44be1ffcfa16b2faa4.jpg'),\n",
       " PosixPath('books/images/fc72f158554b4b4164701e1dfa1153c7.jpg'),\n",
       " PosixPath('books/images/96173470df6fc6fef4d0008e957653ce.jpg'),\n",
       " PosixPath('books/images/2e98c332bf8563b584784971541c4445.jpg'),\n",
       " PosixPath('books/images/0a1567cd04a6582d333db71337b4e2a6.jpg'),\n",
       " PosixPath('books/images/dc44f8e2aebac48ca8553814d9b021a8.jpg'),\n",
       " PosixPath('books/images/f0060c756556b855184fa32f66280961.jpg'),\n",
       " PosixPath('books/images/238570a1c284e730dbc737a7e631ae2b.jpg'),\n",
       " PosixPath('books/images/33e507172541628acfd421503196b578.jpg'),\n",
       " PosixPath('books/images/ddc95df6754df8e71bf969c088056188.jpg'),\n",
       " PosixPath('books/images/41a20f35adf0caea24f208dc01ad7681.jpg'),\n",
       " PosixPath('books/images/2cdad67c44b002e7ead0cc35693c0e8b.jpg'),\n",
       " PosixPath('books/images/8296f92b70fb1dafefecda92c1d51941.jpg'),\n",
       " PosixPath('books/images/f8314c7fdaa79fb7191a583e9a852db8.jpg'),\n",
       " PosixPath('books/images/782e315667ec50759b8603527ee33dec.jpg'),\n",
       " PosixPath('books/images/96db61bb53930c560fb4c1c62b583816.jpg'),\n",
       " PosixPath('books/images/27a53d0bb95bdd88288eaf66c9230d7e.jpg'),\n",
       " PosixPath('books/images/780b2c28122750c2c383846155815bf7.jpg'),\n",
       " PosixPath('books/images/97f8debeeaaece9603267653076e760f.jpg'),\n",
       " PosixPath('books/images/0e6dc2484322c5b9e7854ced66fdf62d.jpg'),\n",
       " PosixPath('books/images/6b70f2cdb17d9ab7551240a88b9211fe.jpg'),\n",
       " PosixPath('books/images/cb004189f548d75ad430d3ed19e6daa9.jpg'),\n",
       " PosixPath('books/images/70fa6c0437d9c97dbeada6bd32bf9d2c.jpg'),\n",
       " PosixPath('books/images/589d73503d9a23d224de836134fae553.jpg'),\n",
       " PosixPath('books/images/38c56fba316c07305643a8065269594e.jpg'),\n",
       " PosixPath('books/images/ea9b2cb8abbb317402e618445bade1e1.jpg'),\n",
       " PosixPath('books/images/a114d70e7babf110ba42a389078e9a45.jpg'),\n",
       " PosixPath('books/images/bea5697f2534a2f86a3ef27b5a8c12a6.jpg'),\n",
       " PosixPath('books/images/5d7ecde8e81513eba8a64c9fe000744b.jpg'),\n",
       " PosixPath('books/images/f2e51dd2b26600459f8eaeb6b9eecaa7.jpg'),\n",
       " PosixPath('books/images/256c946dd0962095f66c6de3b15ab300.jpg'),\n",
       " PosixPath('books/images/19aa1184a3565b1dae6092146018e109.jpg'),\n",
       " PosixPath('books/images/ae0ccc307568b6d7699786411f3cbcc4.jpg'),\n",
       " PosixPath('books/images/08044269fc197645268a6197c57e6173.jpg'),\n",
       " PosixPath('books/images/09a3aef48557576e1a85ba7efea8ecb7.jpg'),\n",
       " PosixPath('books/images/43aee83ebb31e2122a7215e413770e5c.jpg'),\n",
       " PosixPath('books/images/f93b4a650f03a5d21f2436d7813f42c2.jpg'),\n",
       " PosixPath('books/images/24e2f5c9d325c4004d8190c054da86dd.jpg'),\n",
       " PosixPath('books/images/906f0168b0e155a7077625499b1737b5.jpg'),\n",
       " PosixPath('books/images/9363f0065fbad5689f44fcf6e203eef3.jpg'),\n",
       " PosixPath('books/images/2632a1e12f2c085fabbe022ae4cd6933.jpg'),\n",
       " PosixPath('books/images/0fd306891f8fd3196653022fd67d6c87.jpg'),\n",
       " PosixPath('books/images/72417db983862010ef0c1a25de98c7d7.jpg'),\n",
       " PosixPath('books/images/5910fbd8a95e8e9de9c660b71e0694e2.jpg'),\n",
       " PosixPath('books/images/3d54940e57e662c4dd1f3ff00c78cc64.jpg'),\n",
       " PosixPath('books/images/71df730cf38c232ee58a2e407135f055.jpg'),\n",
       " PosixPath('books/images/af6e796160fe63e0cf19d44395c7ddf2.jpg'),\n",
       " PosixPath('books/images/94b1b8b244bce9677c2f29ccc890d4d2.jpg'),\n",
       " PosixPath('books/images/92274a95b7c251fea59a2b8a78275ab4.jpg'),\n",
       " PosixPath('books/images/0dcb33d60b0e79adf8ab9842e697ea2e.jpg'),\n",
       " PosixPath('books/images/0bbcd0a6f4bcd81ccb1049a52736406e.jpg'),\n",
       " PosixPath('books/images/06a6cfcf89afd1601cbba1a16cda57fb.jpg'),\n",
       " PosixPath('books/images/ffe81bf98f8386ef29e193abfb6f9c1e.jpg'),\n",
       " PosixPath('books/images/6571919836ec51ed54f0050c31d8a0cd.jpg'),\n",
       " PosixPath('books/images/14f3d525e2a114cd71e27201a16af188.jpg'),\n",
       " PosixPath('books/images/3eef99c9d9adef34639f510662022830.jpg'),\n",
       " PosixPath('books/images/c08816960890396213a423941af65b8f.jpg'),\n",
       " PosixPath('books/images/54607fe8945897cdcced0044103b10b6.jpg'),\n",
       " PosixPath('books/images/c4d1517cc9370e292366b6132ca9ca36.jpg'),\n",
       " PosixPath('books/images/9d0533bae1578846d728a82913b95c26.jpg'),\n",
       " PosixPath('books/images/e1ea6cb36e62ae6dc7b805f68ab9a700.jpg'),\n",
       " PosixPath('books/images/269507c7bb35d2cec9b61a03d1c28e67.jpg'),\n",
       " PosixPath('books/images/d658a1485b130ff26ca5fb0d5975ed2e.jpg'),\n",
       " PosixPath('books/images/2e236e23ad52aa74505f224f6552eda8.jpg'),\n",
       " PosixPath('books/images/386468a8c3e6b880664bf7885bf6f726.jpg'),\n",
       " PosixPath('books/images/9c2e0eb8866b8e3f3b768994fd3d1c1a.jpg'),\n",
       " PosixPath('books/images/8a83b6ce350f01bab21f85e6ba539316.jpg'),\n",
       " PosixPath('books/images/084da0199a717cb6c1eda30f98d0ea4c.jpg'),\n",
       " PosixPath('books/images/11aaad48b5f15e262456ca65294084da.jpg'),\n",
       " PosixPath('books/images/9c463c7631c82401160fd3b554b8f0e1.jpg'),\n",
       " PosixPath('books/images/cbbdb0222ee8a0f6ab61657412a15794.jpg'),\n",
       " PosixPath('books/images/847c06b541e2a3b2228b96d97a5fe7a6.jpg')]"
      ]
     },
     "execution_count": 14,
     "metadata": {},
     "output_type": "execute_result"
    }
   ],
   "source": [
    "[f for f in Path('books').rglob('*.jpg')]"
   ]
  },
  {
   "cell_type": "markdown",
   "metadata": {},
   "source": [
    "Can you tell the titles of the different books? If not, load the json file and try to rename each file."
   ]
  },
  {
   "cell_type": "code",
   "execution_count": 15,
   "metadata": {},
   "outputs": [],
   "source": [
    "data = json.loads(list(Path('books').rglob('*.json'))[0].read_text())\n",
    "mapping = {Path(book['img']).stem: book['name'] for book in data}\n",
    "\n",
    "for img in Path('books').rglob('*.jpg'):\n",
    "    new_name = img.with_name(mapping[img.stem] + img.suffix)\n",
    "    img.rename(new_name)    "
   ]
  },
  {
   "cell_type": "markdown",
   "metadata": {},
   "source": [
    "Now check to see that you can figure out which image is which. (copy your code from a few cells up.)"
   ]
  },
  {
   "cell_type": "code",
   "execution_count": 16,
   "metadata": {},
   "outputs": [
    {
     "data": {
      "text/plain": [
       "[PosixPath('books/images/Mrs. Houdini.jpg'),\n",
       " PosixPath('books/images/Modern Romance.jpg'),\n",
       " PosixPath(\"books/images/Scott Pilgrim's Precious Little Life (Scott Pilgrim #1).jpg\"),\n",
       " PosixPath('books/images/Redeeming Love.jpg'),\n",
       " PosixPath('books/images/In Her Wake.jpg'),\n",
       " PosixPath('books/images/Our Band Could Be Your Life: Scenes from the American Indie Underground, 1981-1991.jpg'),\n",
       " PosixPath('books/images/Shobu Samurai, Project Aryoku (#3).jpg'),\n",
       " PosixPath('books/images/Reskilling America: Learning to Labor in the Twenty-First Century.jpg'),\n",
       " PosixPath(\"books/images/The Omnivore's Dilemma: A Natural History of Four Meals.jpg\"),\n",
       " PosixPath('books/images/The Murder of Roger Ackroyd (Hercule Poirot #4).jpg'),\n",
       " PosixPath('books/images/Done Rubbed Out (Reightman & Bailey #1).jpg'),\n",
       " PosixPath('books/images/Slow States of Collapse: Poems.jpg'),\n",
       " PosixPath('books/images/Forever and Forever: The Courtship of Henry Longfellow and Fanny Appleton.jpg'),\n",
       " PosixPath('books/images/Crown of Midnight (Throne of Glass #2).jpg'),\n",
       " PosixPath('books/images/On a Midnight Clear.jpg'),\n",
       " PosixPath('books/images/Thirst.jpg'),\n",
       " PosixPath('books/images/Secrets and Lace (Fatal Hearts #1).jpg'),\n",
       " PosixPath('books/images/The Nameless City (The Nameless City #1).jpg'),\n",
       " PosixPath('books/images/Little Red.jpg'),\n",
       " PosixPath('books/images/A Piece of Sky, a Grain of Rice: A Memoir in Four Meditations.jpg'),\n",
       " PosixPath('books/images/The Shadow Hero (The Shadow Hero).jpg'),\n",
       " PosixPath('books/images/My Paris Kitchen: Recipes and Stories.jpg'),\n",
       " PosixPath('books/images/Birdsong: A Story in Pictures.jpg'),\n",
       " PosixPath('books/images/We Love You, Charlie Freeman.jpg'),\n",
       " PosixPath('books/images/The Kite Runner.jpg'),\n",
       " PosixPath('books/images/The Mistake (Off-Campus #2).jpg'),\n",
       " PosixPath('books/images/First and First (Five Boroughs #3).jpg'),\n",
       " PosixPath('books/images/Deliciously Ella Every Day: Quick and Easy Recipes for Gluten-Free Snacks, Packed Lunches, and Simple Meals.jpg'),\n",
       " PosixPath('books/images/Soft Apocalypse.jpg'),\n",
       " PosixPath('books/images/Pop Gun War, Volume 1: Gift.jpg'),\n",
       " PosixPath('books/images/A Court of Thorns and Roses (A Court of Thorns and Roses #1).jpg'),\n",
       " PosixPath(\"books/images/The Bridge to Consciousness: I'm Writing the Bridge Between Science and Our Old and New Beliefs..jpg\"),\n",
       " PosixPath('books/images/Camp Midnight.jpg'),\n",
       " PosixPath('books/images/Layered: Baking, Building, and Styling Spectacular Cakes.jpg'),\n",
       " PosixPath('books/images/Bossypants.jpg'),\n",
       " PosixPath('books/images/Finders Keepers (Bill Hodges Trilogy #2).jpg'),\n",
       " PosixPath('books/images/Danganronpa Volume 1.jpg'),\n",
       " PosixPath('books/images/The Pioneer Woman Cooks: Dinnertime: Comfort Classics, Freezer Food, 16-Minute Meals, and Other Delicious Ways to Solve Supper!.jpg'),\n",
       " PosixPath('books/images/The Nerdy Nummies Cookbook: Sweet Treats for the Geek in All of Us.jpg'),\n",
       " PosixPath('books/images/Hollow City (Miss Peregrine’s Peculiar Children #2).jpg'),\n",
       " PosixPath('books/images/Princess Jellyfish 2-in-1 Omnibus, Vol. 01 (Princess Jellyfish 2-in-1 Omnibus #1).jpg'),\n",
       " PosixPath('books/images/Library of Souls (Miss Peregrine’s Peculiar Children #3).jpg'),\n",
       " PosixPath('books/images/Eureka Trivia 6.0.jpg'),\n",
       " PosixPath('books/images/When We Collided.jpg'),\n",
       " PosixPath('books/images/The Glittering Court (The Glittering Court #1).jpg'),\n",
       " PosixPath('books/images/Set Me Free.jpg'),\n",
       " PosixPath('books/images/Spark Joy: An Illustrated Master Class on the Art of Organizing and Tidying Up.jpg'),\n",
       " PosixPath('books/images/Lumberjanes Vol. 3: A Terrible Plan (Lumberjanes #9-12).jpg'),\n",
       " PosixPath('books/images/Outcast, Vol. 1: A Darkness Surrounds Him (Outcast #1).jpg'),\n",
       " PosixPath('books/images/The Art of War.jpg'),\n",
       " PosixPath('books/images/Unseen City: The Majesty of Pigeons, the Discreet Charm of Snails & Other Wonders of the Urban Wilderness.jpg'),\n",
       " PosixPath('books/images/Fifty Shades Darker (Fifty Shades #2).jpg'),\n",
       " PosixPath('books/images/Private Paris (Private #10).jpg'),\n",
       " PosixPath('books/images/Reasons to Stay Alive.jpg'),\n",
       " PosixPath('books/images/The Murder That Never Was (Forensic Instincts #5).jpg'),\n",
       " PosixPath('books/images/The Mindfulness and Acceptance Workbook for Anxiety: A Guide to Breaking Free from Anxiety, Phobias, and Worry Using Acceptance and Commitment Therapy.jpg'),\n",
       " PosixPath('books/images/Her Backup Boyfriend (The Sorensen Family #1).jpg'),\n",
       " PosixPath('books/images/Thomas Jefferson and the Tripoli Pirates: The Forgotten War That Changed American History.jpg'),\n",
       " PosixPath('books/images/I am a Hero Omnibus Volume 1.jpg'),\n",
       " PosixPath('books/images/Penny Maybe.jpg'),\n",
       " PosixPath('books/images/Giant Days, Vol. 2 (Giant Days #5-8).jpg'),\n",
       " PosixPath('books/images/Aladdin and His Wonderful Lamp.jpg'),\n",
       " PosixPath('books/images/Grumbles.jpg'),\n",
       " PosixPath(\"books/images/So You've Been Publicly Shamed.jpg\"),\n",
       " PosixPath('books/images/The Genius of Birds.jpg'),\n",
       " PosixPath('books/images/The Dirty Little Secrets of Getting Your Dream Job.jpg'),\n",
       " PosixPath('books/images/Unbound: How Eight Technologies Made Us Human, Transformed Society, and Brought Our World to the Brink.jpg'),\n",
       " PosixPath('books/images/In a Dark, Dark Wood.jpg'),\n",
       " PosixPath('books/images/Patience.jpg'),\n",
       " PosixPath('books/images/The Girl on the Train.jpg'),\n",
       " PosixPath(\"books/images/The Artist's Way: A Spiritual Path to Higher Creativity.jpg\"),\n",
       " PosixPath('books/images/How to Be Miserable: 40 Strategies You Already Use.jpg'),\n",
       " PosixPath('books/images/Political Suicide: Missteps, Peccadilloes, Bad Calls, Backroom Hijinx, Sordid Pasts, Rotten Breaks, and Just Plain Dumb Mistakes in the Annals of American Politics.jpg'),\n",
       " PosixPath('books/images/A World of Flavor: Your Gluten Free Passport.jpg'),\n",
       " PosixPath('books/images/Tsubasa: WoRLD CHRoNiCLE 2 (Tsubasa WoRLD CHRoNiCLE #2).jpg'),\n",
       " PosixPath('books/images/orange: The Complete Collection 1 (orange: The Complete Collection #1).jpg'),\n",
       " PosixPath('books/images/Tipping the Velvet.jpg'),\n",
       " PosixPath('books/images/Sapiens: A Brief History of Humankind.jpg'),\n",
       " PosixPath('books/images/The Wedding Dress.jpg'),\n",
       " PosixPath('books/images/The Death of Humanity: and the Case for Life.jpg'),\n",
       " PosixPath(\"books/images/It's Only the Himalayas.jpg\"),\n",
       " PosixPath('books/images/Mesaerion: The Best Science Fiction Stories 1800-1849.jpg'),\n",
       " PosixPath('books/images/The Four Agreements: A Practical Guide to Personal Freedom.jpg'),\n",
       " PosixPath('books/images/Call the Nurse: True Stories of a Country Nurse on a Scottish Isle.jpg'),\n",
       " PosixPath('books/images/Worlds Elsewhere: Journeys Around Shakespeare’s Globe.jpg'),\n",
       " PosixPath('books/images/Everydata: The Misinformation Hidden in the Little Data You Consume Every Day.jpg'),\n",
       " PosixPath('books/images/Join.jpg'),\n",
       " PosixPath('books/images/The Vacationers.jpg'),\n",
       " PosixPath('books/images/Large Print Heart of the Pride.jpg'),\n",
       " PosixPath('books/images/Nightingale, Sing.jpg'),\n",
       " PosixPath(\"books/images/The Matchmaker's Playbook (Wingmen Inc. #1).jpg\"),\n",
       " PosixPath('books/images/A Murder in Time.jpg'),\n",
       " PosixPath('books/images/The Five Love Languages: How to Express Heartfelt Commitment to Your Mate.jpg'),\n",
       " PosixPath('books/images/Doing It Over (Most Likely To #1).jpg'),\n",
       " PosixPath('books/images/In the Country We Love: My Family Divided.jpg'),\n",
       " PosixPath(\"books/images/The Activist's Tao Te Ching: Ancient Advice for a Modern Revolution.jpg\"),\n",
       " PosixPath('books/images/Rat Queens, Vol. 3: Demons (Rat Queens (Collected Editions) #11-15).jpg'),\n",
       " PosixPath('books/images/The Gutsy Girl: Escapades for Your Life of Epic Adventure.jpg'),\n",
       " PosixPath('books/images/The Electric Pencil: Drawings from Inside State Hospital No. 3.jpg'),\n",
       " PosixPath('books/images/The Coming Woman: A Novel Based on the Life of the Infamous Feminist, Victoria Woodhull.jpg'),\n",
       " PosixPath('books/images/The White Cat and the Monk: A Retelling of the Poem “Pangur Bán”.jpg'),\n",
       " PosixPath('books/images/The House by the Lake.jpg'),\n",
       " PosixPath('books/images/Princess Between Worlds (Wide-Awake Princess #5).jpg'),\n",
       " PosixPath('books/images/Chase Me (Paris Nights #2).jpg'),\n",
       " PosixPath('books/images/Lumberjanes, Vol. 1: Beware the Kitten Holy (Lumberjanes #1-4).jpg'),\n",
       " PosixPath('books/images/Lumberjanes, Vol. 2: Friendship to the Max (Lumberjanes #5-8).jpg'),\n",
       " PosixPath('books/images/The Argonauts.jpg'),\n",
       " PosixPath('books/images/Online Marketing for Busy Authors: A Step-By-Step Guide.jpg'),\n",
       " PosixPath(\"books/images/Shakespeare's Sonnets.jpg\"),\n",
       " PosixPath('books/images/Mama Tried: Traditional Italian Cooking for the Screwed, Crude, Vegan, and Tattooed.jpg'),\n",
       " PosixPath('books/images/The Past Never Ends.jpg'),\n",
       " PosixPath('books/images/You Are What You Love: The Spiritual Power of Habit.jpg'),\n",
       " PosixPath('books/images/Burning.jpg'),\n",
       " PosixPath('books/images/Wall and Piece.jpg'),\n",
       " PosixPath('books/images/Immunity: How Elie Metchnikoff Changed the Course of Modern Medicine.jpg'),\n",
       " PosixPath('books/images/The Boys in the Boat: Nine Americans and Their Epic Quest for Gold at the 1936 Berlin Olympics.jpg'),\n",
       " PosixPath('books/images/The Torch Is Passed: A Harding Family Story.jpg'),\n",
       " PosixPath('books/images/Unicorn Tracks.jpg'),\n",
       " PosixPath('books/images/The Age of Genius: The Seventeenth Century and the Birth of the Modern Mind.jpg'),\n",
       " PosixPath('books/images/Bitch Planet, Vol. 1: Extraordinary Machine (Bitch Planet (Collected Editions)).jpg'),\n",
       " PosixPath('books/images/Masks and Shadows.jpg'),\n",
       " PosixPath('books/images/Throne of Glass (Throne of Glass #1).jpg'),\n",
       " PosixPath('books/images/Saga, Volume 5 (Saga (Collected Editions) #5).jpg'),\n",
       " PosixPath('books/images/I Hate Fairyland, Vol. 1: Madly Ever After (I Hate Fairyland (Compilations) #1-5).jpg'),\n",
       " PosixPath('books/images/Miss Peregrine’s Home for Peculiar Children (Miss Peregrine’s Peculiar Children #1).jpg'),\n",
       " PosixPath('books/images/The Natural History of Us (The Fine Art of Pretending #2).jpg'),\n",
       " PosixPath('books/images/Starving Hearts (Triangular Trade Trilogy, #1).jpg'),\n",
       " PosixPath('books/images/Drive: The Surprising Truth About What Motivates Us.jpg'),\n",
       " PosixPath('books/images/Judo: Seven Steps to Black Belt (an Introductory Guide for Beginners).jpg'),\n",
       " PosixPath('books/images/Tuesday Nights in 1980.jpg'),\n",
       " PosixPath('books/images/Shoe Dog: A Memoir by the Creator of NIKE.jpg'),\n",
       " PosixPath('books/images/Sharp Objects.jpg'),\n",
       " PosixPath('books/images/The Life-Changing Magic of Tidying Up: The Japanese Art of Decluttering and Organizing.jpg'),\n",
       " PosixPath('books/images/Louisa: The Extraordinary Life of Mrs. Adams.jpg'),\n",
       " PosixPath('books/images/Without Borders (Wanderlove #1).jpg'),\n",
       " PosixPath('books/images/The Regional Office Is Under Attack!.jpg'),\n",
       " PosixPath('books/images/The Inefficiency Assassin: Time Management Tactics for Working Smarter, Not Longer.jpg'),\n",
       " PosixPath('books/images/Poems That Make Grown Women Cry.jpg'),\n",
       " PosixPath('books/images/How Music Works.jpg'),\n",
       " PosixPath('books/images/The Art Forger.jpg'),\n",
       " PosixPath('books/images/A Light in the Attic.jpg'),\n",
       " PosixPath('books/images/I Had a Nice Time And Other Lies...: How to find love & sh*t like that.jpg'),\n",
       " PosixPath('books/images/Untitled Collection: Sabbath Poems 2014.jpg'),\n",
       " PosixPath('books/images/Avatar: The Last Airbender: Smoke and Shadow, Part 3 (Smoke and Shadow #3).jpg'),\n",
       " PosixPath('books/images/Night Sky with Exit Wounds.jpg'),\n",
       " PosixPath('books/images/The Bear and the Piano.jpg'),\n",
       " PosixPath('books/images/The Long Shadow of Small Ghosts: Murder and Memory in an American City.jpg'),\n",
       " PosixPath('books/images/The Stranger.jpg'),\n",
       " PosixPath('books/images/The Love and Lemons Cookbook: An Apple-to-Zucchini Celebration of Impromptu Cooking.jpg'),\n",
       " PosixPath('books/images/Fables, Vol. 1: Legends in Exile (Fables #1).jpg'),\n",
       " PosixPath('books/images/The Secret of Dreadwillow Carse.jpg'),\n",
       " PosixPath('books/images/The Requiem Red.jpg'),\n",
       " PosixPath(\"books/images/Don't Be a Jerk: And Other Practical Advice from Dogen, Japan's Greatest Zen Master.jpg\"),\n",
       " PosixPath('books/images/Soumission.jpg'),\n",
       " PosixPath('books/images/The Emerald Mystery.jpg'),\n",
       " PosixPath(\"books/images/Sophie's World.jpg\"),\n",
       " PosixPath('books/images/Tracing Numbers on a Train.jpg'),\n",
       " PosixPath(\"books/images/America's Cradle of Quarterbacks: Western Pennsylvania's Football Factory from Johnny Unitas to Joe Montana.jpg\"),\n",
       " PosixPath(\"books/images/William Shakespeare's Star Wars: Verily, A New Hope (William Shakespeare's Star Wars #4).jpg\"),\n",
       " PosixPath('books/images/Poses for Artists Volume 1 - Dynamic and Sitting Poses: An Essential Reference for Figure Drawing and the Human Form.jpg'),\n",
       " PosixPath('books/images/A Fierce and Subtle Poison.jpg'),\n",
       " PosixPath('books/images/The Project.jpg'),\n",
       " PosixPath('books/images/Something More Than This.jpg'),\n",
       " PosixPath('books/images/The Cookies & Cups Cookbook: 125+ sweet & savory recipes reminding you to Always Eat Dessert First.jpg'),\n",
       " PosixPath('books/images/Soul Reader.jpg'),\n",
       " PosixPath('books/images/Frostbite (Vampire Academy #2).jpg'),\n",
       " PosixPath('books/images/Libertarianism for Beginners.jpg'),\n",
       " PosixPath('books/images/Codename Baboushka, Volume 1: The Conclave of Death.jpg'),\n",
       " PosixPath('books/images/Follow You Home.jpg'),\n",
       " PosixPath('books/images/Full Moon over Noah’s Ark: An Odyssey to Mount Ararat and Beyond.jpg'),\n",
       " PosixPath('books/images/The Psychopath Test: A Journey Through the Madness Industry.jpg'),\n",
       " PosixPath('books/images/A Flight of Arrows (The Pathfinders #2).jpg'),\n",
       " PosixPath('books/images/Saga, Volume 6 (Saga (Collected Editions) #6).jpg'),\n",
       " PosixPath('books/images/The 10% Entrepreneur: Live Your Startup Dream Without Quitting Your Day Job.jpg'),\n",
       " PosixPath('books/images/Security.jpg'),\n",
       " PosixPath('books/images/The Third Wave: An Entrepreneur’s Vision of the Future.jpg'),\n",
       " PosixPath('books/images/The Secret (The Secret #1).jpg'),\n",
       " PosixPath(\"books/images/The Most Perfect Thing: Inside (and Outside) a Bird's Egg.jpg\"),\n",
       " PosixPath('books/images/This One Summer.jpg'),\n",
       " PosixPath('books/images/Behind Closed Doors.jpg'),\n",
       " PosixPath(\"books/images/You can't bury them all: Poems.jpg\"),\n",
       " PosixPath('books/images/Obsidian (Lux #1).jpg'),\n",
       " PosixPath('books/images/Scarlett Epstein Hates It Here.jpg'),\n",
       " PosixPath('books/images/Suddenly in Love (Lake Haven #1).jpg'),\n",
       " PosixPath('books/images/#HigherSelfie: Wake Up Your Life. Free Your Soul. Find Your Tribe..jpg'),\n",
       " PosixPath('books/images/First Steps for New Christians (Print Edition).jpg'),\n",
       " PosixPath('books/images/Rip it Up and Start Again.jpg'),\n",
       " PosixPath('books/images/The Black Maria.jpg'),\n",
       " PosixPath('books/images/The Elephant Tree.jpg'),\n",
       " PosixPath('books/images/The Power of Now: A Guide to Spiritual Enlightenment.jpg'),\n",
       " PosixPath('books/images/Thirteen Reasons Why.jpg'),\n",
       " PosixPath('books/images/Romero and Juliet: A Tragic Tale of Love and Zombies.jpg'),\n",
       " PosixPath('books/images/Foolproof Preserving: A Guide to Small Batch Jams, Jellies, Pickles, Condiments, and More: A Foolproof Guide to Making Small Batch Jams, Jellies, Pickles, Condiments, and More.jpg'),\n",
       " PosixPath('books/images/Algorithms to Live By: The Computer Science of Human Decisions.jpg'),\n",
       " PosixPath('books/images/Throwing Rocks at the Google Bus: How Growth Became the Enemy of Prosperity.jpg'),\n",
       " PosixPath('books/images/(Un)Qualified: How God Uses Broken People to Do Big Things.jpg'),\n",
       " PosixPath('books/images/Maude (1883-1993):She Grew Up with the country.jpg'),\n",
       " PosixPath('books/images/Olio.jpg'),\n",
       " PosixPath('books/images/Black Dust.jpg'),\n",
       " PosixPath('books/images/The Bulletproof Diet: Lose up to a Pound a Day, Reclaim Energy and Focus, Upgrade Your Life.jpg')]"
      ]
     },
     "execution_count": 16,
     "metadata": {},
     "output_type": "execute_result"
    }
   ],
   "source": [
    "[f for f in Path('books').rglob('*.jpg')]"
   ]
  },
  {
   "cell_type": "markdown",
   "metadata": {},
   "source": [
    "# Let's Make Something"
   ]
  },
  {
   "cell_type": "markdown",
   "metadata": {},
   "source": [
    "Under `base_dir`, Create a path to a file called `example.txt`."
   ]
  },
  {
   "cell_type": "code",
   "execution_count": 17,
   "metadata": {},
   "outputs": [],
   "source": [
    "file = base_dir / 'example.txt'"
   ]
  },
  {
   "cell_type": "markdown",
   "metadata": {},
   "source": [
    "Check to see if the file exists"
   ]
  },
  {
   "cell_type": "code",
   "execution_count": 18,
   "metadata": {},
   "outputs": [
    {
     "data": {
      "text/plain": [
       "False"
      ]
     },
     "execution_count": 18,
     "metadata": {},
     "output_type": "execute_result"
    }
   ],
   "source": [
    "file.exists()"
   ]
  },
  {
   "cell_type": "markdown",
   "metadata": {},
   "source": [
    "Write text to the file using one of the `pathlib` utility methods."
   ]
  },
  {
   "cell_type": "code",
   "execution_count": 19,
   "metadata": {},
   "outputs": [
    {
     "data": {
      "text/plain": [
       "5"
      ]
     },
     "execution_count": 19,
     "metadata": {},
     "output_type": "execute_result"
    }
   ],
   "source": [
    "file.write_text('PyRVA')"
   ]
  },
  {
   "cell_type": "markdown",
   "metadata": {},
   "source": [
    "See if the file exits now."
   ]
  },
  {
   "cell_type": "code",
   "execution_count": 20,
   "metadata": {},
   "outputs": [
    {
     "data": {
      "text/plain": [
       "True"
      ]
     },
     "execution_count": 20,
     "metadata": {},
     "output_type": "execute_result"
    }
   ],
   "source": [
    "file.exists()"
   ]
  },
  {
   "cell_type": "markdown",
   "metadata": {},
   "source": [
    "Get the text from the file using one of the `pathlib` utility methods."
   ]
  },
  {
   "cell_type": "code",
   "execution_count": 21,
   "metadata": {},
   "outputs": [
    {
     "data": {
      "text/plain": [
       "'PyRVA'"
      ]
     },
     "execution_count": 21,
     "metadata": {},
     "output_type": "execute_result"
    }
   ],
   "source": [
    "file.read_text()"
   ]
  },
  {
   "cell_type": "markdown",
   "metadata": {},
   "source": [
    "Under `base_dir`:\n",
    "\n",
    "* Create a new directory called `new`. \n",
    "* In `new`, create 26 sub directories based on the letters of the alphabet (you can use `string.ascii_lowercase` to iterate if you'd like). \n",
    "* Under each letter directory, create 10 directories numbered `0` -> `9` (you can use `range(10)` to iterate if you'd like.) \n",
    "* In each numbered directory, create a file called `file.txt` and write `PyRVA is Awesome!` to each file.\n",
    "\n",
    "You should only have one line in the code block that actually creates directories and one line in the code block that creates the file.\n",
    "\n",
    "What happens if you run the code block twice?"
   ]
  },
  {
   "cell_type": "code",
   "execution_count": 22,
   "metadata": {},
   "outputs": [],
   "source": [
    "for char in string.ascii_lowercase:\n",
    "    for i in range(10):\n",
    "        new = base_dir / 'new' / char / str(i)\n",
    "        new.mkdir(parents=True)        \n",
    "        (new / 'file.txt').write_text('PyRVA is Awesome!')"
   ]
  },
  {
   "cell_type": "markdown",
   "metadata": {},
   "source": [
    "Find all the `file.txt` files under `base_dir` and check that the number matches what you expected (this can be done in one line). If not, you might need to debug something."
   ]
  },
  {
   "cell_type": "code",
   "execution_count": 23,
   "metadata": {},
   "outputs": [
    {
     "data": {
      "text/plain": [
       "261"
      ]
     },
     "execution_count": 23,
     "metadata": {},
     "output_type": "execute_result"
    }
   ],
   "source": [
    "len([*base_dir.rglob('file.txt')])"
   ]
  },
  {
   "cell_type": "code",
   "execution_count": 24,
   "metadata": {},
   "outputs": [
    {
     "data": {
      "text/plain": [
       "[PosixPath('/home/cohan/Documents/projects/coding-night/pathlib/file.txt')]"
      ]
     },
     "execution_count": 24,
     "metadata": {},
     "output_type": "execute_result"
    }
   ],
   "source": [
    "[f for f in base_dir.rglob('file.txt') if 'new' not in str(f)]"
   ]
  },
  {
   "cell_type": "markdown",
   "metadata": {},
   "source": [
    "Now delete the `new` folder."
   ]
  },
  {
   "cell_type": "code",
   "execution_count": 25,
   "metadata": {},
   "outputs": [],
   "source": [
    "def rmdir(top: Path):\n",
    "    for file in top.iterdir():\n",
    "        if file.is_file():\n",
    "            file.unlink()\n",
    "        elif file.is_dir():\n",
    "            rmdir(file)\n",
    "    top.rmdir()\n",
    "            \n",
    "rmdir(base_dir / 'new')"
   ]
  },
  {
   "cell_type": "markdown",
   "metadata": {},
   "source": [
    "# Which Is Better?\n",
    "\n",
    "For these exercises, see if you can figure out the pathlib replacement for the following code blocks. There is a quick reference table at the bottom of the `pathlib` documentation, but I encourage you to read through the documentation without looking at the table. Once you have verified the output to be the same (don't worry about the `PosixPath()` `__repr__` value, as long as the result is the same otherwise, you can use `str()` if you really care about it), use the [`%%timeit`](https://ipython.readthedocs.io/en/stable/interactive/magics.html#magic-timeit) magic method to compare the speeds.\n",
    "\n",
    "Once you have compared the different methods, think about which of the follow things are important to you:\n",
    "\n",
    "* Speed of development (characters typed)\n",
    "* Speed of maintenance (how easy is it to read)\n",
    "* Speed of execution (how fast the code runs)"
   ]
  },
  {
   "cell_type": "markdown",
   "metadata": {},
   "source": [
    "Getting the parent of the current folder."
   ]
  },
  {
   "cell_type": "code",
   "execution_count": 26,
   "metadata": {},
   "outputs": [
    {
     "data": {
      "text/plain": [
       "'/home/cohan/Documents/projects/coding-night'"
      ]
     },
     "execution_count": 26,
     "metadata": {},
     "output_type": "execute_result"
    }
   ],
   "source": [
    "os.path.dirname(os.path.dirname(os.path.abspath(__file__)))"
   ]
  },
  {
   "cell_type": "code",
   "execution_count": 27,
   "metadata": {},
   "outputs": [
    {
     "data": {
      "text/plain": [
       "PosixPath('/home/cohan/Documents/projects/coding-night')"
      ]
     },
     "execution_count": 27,
     "metadata": {},
     "output_type": "execute_result"
    }
   ],
   "source": [
    "Path(__file__).parents[1]"
   ]
  },
  {
   "cell_type": "markdown",
   "metadata": {},
   "source": [
    "Get the basename of the current file."
   ]
  },
  {
   "cell_type": "code",
   "execution_count": 28,
   "metadata": {},
   "outputs": [
    {
     "data": {
      "text/plain": [
       "'Challenge.ipynb'"
      ]
     },
     "execution_count": 28,
     "metadata": {},
     "output_type": "execute_result"
    }
   ],
   "source": [
    "os.path.basename(__file__)"
   ]
  },
  {
   "cell_type": "code",
   "execution_count": 29,
   "metadata": {},
   "outputs": [
    {
     "data": {
      "text/plain": [
       "'Challenge.ipynb'"
      ]
     },
     "execution_count": 29,
     "metadata": {},
     "output_type": "execute_result"
    }
   ],
   "source": [
    "Path(__file__).name"
   ]
  },
  {
   "cell_type": "markdown",
   "metadata": {},
   "source": [
    "Get the basename of the current file without the extension."
   ]
  },
  {
   "cell_type": "code",
   "execution_count": 30,
   "metadata": {},
   "outputs": [
    {
     "data": {
      "text/plain": [
       "'Challenge'"
      ]
     },
     "execution_count": 30,
     "metadata": {},
     "output_type": "execute_result"
    }
   ],
   "source": [
    "os.path.splitext(os.path.basename(__file__))[0]"
   ]
  },
  {
   "cell_type": "code",
   "execution_count": 31,
   "metadata": {},
   "outputs": [
    {
     "data": {
      "text/plain": [
       "'Challenge'"
      ]
     },
     "execution_count": 31,
     "metadata": {},
     "output_type": "execute_result"
    }
   ],
   "source": [
    "Path(__file__).stem"
   ]
  },
  {
   "cell_type": "markdown",
   "metadata": {},
   "source": [
    "Get the file extension of the current file."
   ]
  },
  {
   "cell_type": "code",
   "execution_count": 32,
   "metadata": {},
   "outputs": [
    {
     "data": {
      "text/plain": [
       "'.ipynb'"
      ]
     },
     "execution_count": 32,
     "metadata": {},
     "output_type": "execute_result"
    }
   ],
   "source": [
    "os.path.splitext(__file__)[1]"
   ]
  },
  {
   "cell_type": "code",
   "execution_count": 33,
   "metadata": {},
   "outputs": [
    {
     "data": {
      "text/plain": [
       "'.ipynb'"
      ]
     },
     "execution_count": 33,
     "metadata": {},
     "output_type": "execute_result"
    }
   ],
   "source": [
    "Path(__file__).suffix"
   ]
  },
  {
   "cell_type": "markdown",
   "metadata": {},
   "source": [
    "Create a `PurePath` with a different name in the same directory (file doesn't have to exist)."
   ]
  },
  {
   "cell_type": "code",
   "execution_count": 34,
   "metadata": {},
   "outputs": [
    {
     "data": {
      "text/plain": [
       "'/home/cohan/Documents/projects/coding-night/pathlib/myfile.txt'"
      ]
     },
     "execution_count": 34,
     "metadata": {},
     "output_type": "execute_result"
    }
   ],
   "source": [
    "os.path.join(os.path.dirname(__file__), 'myfile.txt')"
   ]
  },
  {
   "cell_type": "code",
   "execution_count": 35,
   "metadata": {},
   "outputs": [
    {
     "data": {
      "text/plain": [
       "PosixPath('/home/cohan/Documents/projects/coding-night/pathlib/myfile.txt')"
      ]
     },
     "execution_count": 35,
     "metadata": {},
     "output_type": "execute_result"
    }
   ],
   "source": [
    "Path(__file__).with_name('myfile.txt')"
   ]
  },
  {
   "cell_type": "markdown",
   "metadata": {},
   "source": [
    "Create a `PurePath` of the same file with a different extension."
   ]
  },
  {
   "cell_type": "code",
   "execution_count": 36,
   "metadata": {},
   "outputs": [
    {
     "data": {
      "text/plain": [
       "'/home/cohan/Documents/projects/coding-night/pathlib/Challenge.py'"
      ]
     },
     "execution_count": 36,
     "metadata": {},
     "output_type": "execute_result"
    }
   ],
   "source": [
    "os.path.join(os.path.dirname(__file__), os.path.basename(os.path.splitext(__file__)[0]) + '.py')"
   ]
  },
  {
   "cell_type": "code",
   "execution_count": 37,
   "metadata": {},
   "outputs": [
    {
     "data": {
      "text/plain": [
       "PosixPath('/home/cohan/Documents/projects/coding-night/pathlib/Challenge.py')"
      ]
     },
     "execution_count": 37,
     "metadata": {},
     "output_type": "execute_result"
    }
   ],
   "source": [
    "Path(__file__).with_suffix('.py')"
   ]
  },
  {
   "cell_type": "markdown",
   "metadata": {},
   "source": [
    "Get the home directory of the current user."
   ]
  },
  {
   "cell_type": "code",
   "execution_count": 38,
   "metadata": {},
   "outputs": [
    {
     "data": {
      "text/plain": [
       "'/home/cohan'"
      ]
     },
     "execution_count": 38,
     "metadata": {},
     "output_type": "execute_result"
    }
   ],
   "source": [
    "os.path.expanduser('~')"
   ]
  },
  {
   "cell_type": "code",
   "execution_count": 39,
   "metadata": {},
   "outputs": [
    {
     "data": {
      "text/plain": [
       "PosixPath('/home/cohan')"
      ]
     },
     "execution_count": 39,
     "metadata": {},
     "output_type": "execute_result"
    }
   ],
   "source": [
    "Path.home()"
   ]
  },
  {
   "cell_type": "markdown",
   "metadata": {},
   "source": [
    "# Cleanup\n",
    "\n",
    "Run the following line to remove files created by this exercise (assuming you followed the suggested file names)."
   ]
  },
  {
   "cell_type": "code",
   "execution_count": 40,
   "metadata": {},
   "outputs": [],
   "source": [
    "cleanup()"
   ]
  }
 ],
 "metadata": {
  "kernelspec": {
   "display_name": "Python 3",
   "language": "python",
   "name": "python3"
  },
  "language_info": {
   "codemirror_mode": {
    "name": "ipython",
    "version": 3
   },
   "file_extension": ".py",
   "mimetype": "text/x-python",
   "name": "python",
   "nbconvert_exporter": "python",
   "pygments_lexer": "ipython3",
   "version": "3.7.5"
  }
 },
 "nbformat": 4,
 "nbformat_minor": 4
}
