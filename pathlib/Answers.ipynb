{
 "cells": [
  {
   "cell_type": "markdown",
   "metadata": {},
   "source": [
    "# Pathlib Challenges\n",
    "\n",
    "For these challenges we will be getting familiar with the [`pathlib`](https://docs.python.org/3/library/pathlib.html) library.\n",
    "\n",
    "This topic was inspired by our own Organizer, Chris May. He wrote an article on [getting started with pathlib](https://everydaysuperpowers.dev/articles/stop-working-so-hard-paths-get-started-pathlib/) which also prompted him to write a [field guide](https://everydaysuperpowers.dev/documents/3/ES-Getting_Started_with_Pathlib.pdf) and [`pathlib` cheat sheet](https://everydaysuperpowers.dev/documents/2/pathlib_cheat_sheet-V1_200703.pdf). You can see his other articles and resources at https://everydaysuperpowers.dev. Feel free to look at the resources and the `pathlib` documentation as they serve as the basis for the exercises below.\n",
    "\n",
    "One common shortcut to get the path of the current file is with the `__file__` variable. Due to how Jupyter Notebooks work, the `__file__` variable is not available, so it is mimmicked in the import statement. If you're not familiar with `__file__`, I suggest you look at [`__name__`](https://docs.python.org/3/library/__main__.html) and how python uses [dunder](https://dbader.org/blog/python-dunder-methods) attributes and methods.\n",
    "\n",
    "There are two kinds of Paths. The documentation states, \"*Path classes are divided between pure paths, which provide purely computational operations without I/O, and concrete paths, which inherit from pure paths but also provide I/O operations.*\" In other words,\n",
    "\n",
    "* **`PurePath`**: Performs path operations witout caring about what might actually be on the disk.\n",
    "* **`Path`**: Allows you to interact with files.\n",
    "\n",
    "Both `PurePath` and `Path` can be either Windows or Posix paths. Chances are that you will not need to worry about the operating system specific choice since `pathlib` will take care of all the specifics for you!"
   ]
  },
  {
   "cell_type": "code",
   "execution_count": null,
   "metadata": {},
   "outputs": [],
   "source": [
    "import os\n",
    "from pathlib import Path\n",
    "\n",
    "__file__ = os.path.join(os.getcwd(), 'Challenge.ipynb')\n",
    "__file__"
   ]
  },
  {
   "cell_type": "markdown",
   "metadata": {},
   "source": [
    "# Where am I?\n",
    "\n",
    "The Zen of Python states\n",
    "\n",
    "    There should be one-- and preferably only one --obvious way to do it.\n",
    "    Although that way may not be obvious at first unless you're Dutch.\n",
    "    \n",
    "So naturally it would follow that there are many ways to access the current directory as a place to start. There are 9 different methods shown below for gettinging the current directory. Take some time and look over how each line works. Some things to note:\n",
    "\n",
    "* In all major operating systems `.` refers to the current directory.\n",
    "* `os.getcwd()` is show, but only included for comparison purposes.\n",
    "* Note the difference between lines with and without `.resolve()`\n",
    "* Note how `__file__` requires the `parent` attribute.\n",
    "* Note the difference between `.parent` and `.parents`.\n",
    "\n",
    "While these are all interchangable here, they are not always interchangeable. Some will refer to the working directory while others refer to the location of the script. Be careful with which one you choose. "
   ]
  },
  {
   "cell_type": "code",
   "execution_count": null,
   "metadata": {},
   "outputs": [],
   "source": [
    "[\n",
    "    os.getcwd(),\n",
    "    Path(os.getcwd()),\n",
    "    Path.cwd(),\n",
    "    Path(),\n",
    "    Path().resolve(),\n",
    "    Path('.'),\n",
    "    Path('.').resolve(),\n",
    "    Path(__file__).parent,\n",
    "    Path(__file__).parents[0],\n",
    "]"
   ]
  },
  {
   "cell_type": "markdown",
   "metadata": {},
   "source": [
    "Okay, now that you've looked at the different ways of accessing the current directory, use one of them to set a variable `base_dir`"
   ]
  },
  {
   "cell_type": "code",
   "execution_count": null,
   "metadata": {},
   "outputs": [],
   "source": [
    "base_dir = Path()"
   ]
  }
 ],
 "metadata": {
  "kernelspec": {
   "display_name": "Python 3",
   "language": "python",
   "name": "python3"
  },
  "language_info": {
   "codemirror_mode": {
    "name": "ipython",
    "version": 3
   },
   "file_extension": ".py",
   "mimetype": "text/x-python",
   "name": "python",
   "nbconvert_exporter": "python",
   "pygments_lexer": "ipython3",
   "version": "3.7.0"
  }
 },
 "nbformat": 4,
 "nbformat_minor": 4
}
